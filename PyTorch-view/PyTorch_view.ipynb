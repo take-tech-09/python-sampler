{
 "cells": [
  {
   "cell_type": "markdown",
   "metadata": {},
   "source": [
    "# 【PyTorch view】Tensor配列の次元を変換するtorch.view\n",
    "https://take-tech-engineer.com/pytorch-view/"
   ]
  },
  {
   "cell_type": "code",
   "execution_count": 1,
   "metadata": {
    "colab": {
     "base_uri": "https://localhost:8080/"
    },
    "id": "Rj-Wt5jdaMYL",
    "outputId": "c62734bc-e747-417f-d316-3d752e55548c"
   },
   "outputs": [
    {
     "name": "stdout",
     "output_type": "stream",
     "text": [
      "torch.Size([4, 4])\n"
     ]
    }
   ],
   "source": [
    "import torch\n",
    "\n",
    "x = torch.tensor([[ 0., 1.,  2., 3.],\n",
    "                [4.,  5.,  6., 7.],\n",
    "                [8., 9., 10., 11.],\n",
    "                [12.,  13., 14., 15.]])\n",
    "\n",
    "print(x.shape)\n",
    "# torch.Size([4, 4])"
   ]
  },
  {
   "cell_type": "code",
   "execution_count": 2,
   "metadata": {
    "colab": {
     "base_uri": "https://localhost:8080/",
     "height": 298
    },
    "id": "y3fIpJbT9fnj",
    "outputId": "3e9fa8dc-c746-496d-9cc1-d5b14f740b0d"
   },
   "outputs": [
    {
     "name": "stdout",
     "output_type": "stream",
     "text": [
      "torch.Size([2, 8])\n",
      "torch.Size([16, 1])\n",
      "torch.Size([2, 2, 4])\n"
     ]
    },
    {
     "ename": "RuntimeError",
     "evalue": "shape '[5, 2, 4]' is invalid for input of size 16",
     "output_type": "error",
     "traceback": [
      "\u001b[0;31m---------------------------------------------------------------------------\u001b[0m",
      "\u001b[0;31mRuntimeError\u001b[0m                              Traceback (most recent call last)",
      "\u001b[0;32m<ipython-input-2-63b517fd6000>\u001b[0m in \u001b[0;36m<module>\u001b[0;34m\u001b[0m\n\u001b[1;32m     11\u001b[0m \u001b[0;31m# torch.Size([2, 2, 4])\u001b[0m\u001b[0;34m\u001b[0m\u001b[0;34m\u001b[0m\u001b[0;34m\u001b[0m\u001b[0m\n\u001b[1;32m     12\u001b[0m \u001b[0;34m\u001b[0m\u001b[0m\n\u001b[0;32m---> 13\u001b[0;31m \u001b[0mx_view\u001b[0m \u001b[0;34m=\u001b[0m \u001b[0mx\u001b[0m\u001b[0;34m.\u001b[0m\u001b[0mview\u001b[0m\u001b[0;34m(\u001b[0m\u001b[0;36m5\u001b[0m\u001b[0;34m,\u001b[0m \u001b[0;36m2\u001b[0m\u001b[0;34m,\u001b[0m \u001b[0;36m4\u001b[0m\u001b[0;34m)\u001b[0m\u001b[0;34m\u001b[0m\u001b[0;34m\u001b[0m\u001b[0m\n\u001b[0m\u001b[1;32m     14\u001b[0m \u001b[0mprint\u001b[0m\u001b[0;34m(\u001b[0m\u001b[0mx_view\u001b[0m\u001b[0;34m.\u001b[0m\u001b[0mshape\u001b[0m\u001b[0;34m)\u001b[0m\u001b[0;34m\u001b[0m\u001b[0;34m\u001b[0m\u001b[0m\n\u001b[1;32m     15\u001b[0m \u001b[0;31m# RuntimeError: shape '[5, 2, 4]' is invalid for input of size 16\u001b[0m\u001b[0;34m\u001b[0m\u001b[0;34m\u001b[0m\u001b[0;34m\u001b[0m\u001b[0m\n",
      "\u001b[0;31mRuntimeError\u001b[0m: shape '[5, 2, 4]' is invalid for input of size 16"
     ]
    }
   ],
   "source": [
    "x_view = x.view(2, 8)\n",
    "print(x_view.shape)\n",
    "# torch.Size([2, 8])\n",
    "\n",
    "x_view = x.view(16, 1)\n",
    "print(x_view.shape)\n",
    "# torch.Size([16, 1])\n",
    "\n",
    "x_view = x.view(2, 2, 4)\n",
    "print(x_view.shape)\n",
    "# torch.Size([2, 2, 4])\n",
    "\n",
    "x_view = x.view(5, 2, 4)\n",
    "print(x_view.shape)\n",
    "# RuntimeError: shape '[5, 2, 4]' is invalid for input of size 16"
   ]
  },
  {
   "cell_type": "code",
   "execution_count": 3,
   "metadata": {
    "colab": {
     "base_uri": "https://localhost:8080/"
    },
    "id": "33H6s_IJaTKa",
    "outputId": "17e1aa22-e0b4-4a7f-acaf-8c3485dbadae"
   },
   "outputs": [
    {
     "name": "stdout",
     "output_type": "stream",
     "text": [
      "torch.Size([16])\n",
      "torch.Size([16, 1])\n",
      "torch.Size([8, 2])\n",
      "torch.Size([4, 2, 2])\n"
     ]
    }
   ],
   "source": [
    "x_view = x.view(-1)\n",
    "print(x_view.shape)\n",
    "# torch.Size([16])\n",
    "\n",
    "x_view = x.view(-1, 1)\n",
    "print(x_view.shape)\n",
    "# torch.Size([16, 1])\n",
    "\n",
    "x_view = x.view(-1, 2)\n",
    "print(x_view.shape)\n",
    "# torch.Size([8, 2])\n",
    "\n",
    "x_view = x.view(-1, 2, 2)\n",
    "print(x_view.shape)\n",
    "# torch.Size([4, 2, 2])"
   ]
  },
  {
   "cell_type": "code",
   "execution_count": 4,
   "metadata": {
    "colab": {
     "base_uri": "https://localhost:8080/",
     "height": 173
    },
    "id": "exQPOkDKac4N",
    "outputId": "3e609173-1d93-449a-d1f0-5952289552e6"
   },
   "outputs": [
    {
     "ename": "RuntimeError",
     "evalue": "view size is not compatible with input tensor's size and stride (at least one dimension spans across two contiguous subspaces). Use .reshape(...) instead.",
     "output_type": "error",
     "traceback": [
      "\u001b[0;31m---------------------------------------------------------------------------\u001b[0m",
      "\u001b[0;31mRuntimeError\u001b[0m                              Traceback (most recent call last)",
      "\u001b[0;32m<ipython-input-4-7b2c6de522df>\u001b[0m in \u001b[0;36m<module>\u001b[0;34m\u001b[0m\n\u001b[0;32m----> 1\u001b[0;31m \u001b[0mx\u001b[0m\u001b[0;34m.\u001b[0m\u001b[0mT\u001b[0m\u001b[0;34m.\u001b[0m\u001b[0mview\u001b[0m\u001b[0;34m(\u001b[0m\u001b[0;36m16\u001b[0m\u001b[0;34m,\u001b[0m \u001b[0;36m1\u001b[0m\u001b[0;34m)\u001b[0m\u001b[0;34m\u001b[0m\u001b[0;34m\u001b[0m\u001b[0m\n\u001b[0m\u001b[1;32m      2\u001b[0m \u001b[0;31m# RuntimeError: view size is not compatible with input tensor's size and stride\u001b[0m\u001b[0;34m\u001b[0m\u001b[0;34m\u001b[0m\u001b[0;34m\u001b[0m\u001b[0m\n\u001b[1;32m      3\u001b[0m \u001b[0;31m# (at least one dimension spans across two contiguous subspaces). Use .reshape(...) instead.\u001b[0m\u001b[0;34m\u001b[0m\u001b[0;34m\u001b[0m\u001b[0;34m\u001b[0m\u001b[0m\n",
      "\u001b[0;31mRuntimeError\u001b[0m: view size is not compatible with input tensor's size and stride (at least one dimension spans across two contiguous subspaces). Use .reshape(...) instead."
     ]
    }
   ],
   "source": [
    "x.T.view(16, 1)\n",
    "# RuntimeError: view size is not compatible with input tensor's size and stride \n",
    "# (at least one dimension spans across two contiguous subspaces). Use .reshape(...) instead."
   ]
  },
  {
   "cell_type": "code",
   "execution_count": 5,
   "metadata": {
    "colab": {
     "base_uri": "https://localhost:8080/"
    },
    "id": "IHN14e_bafoP",
    "outputId": "dad00875-87d9-4cc7-b60c-3a3d3639bba3"
   },
   "outputs": [
    {
     "name": "stdout",
     "output_type": "stream",
     "text": [
      "torch.Size([16, 1])\n",
      "torch.Size([16, 1])\n"
     ]
    }
   ],
   "source": [
    "x_view = x.T.contiguous().view(16, 1)\n",
    "print(x_view.shape)\n",
    "# torch.Size([16, 1])\n",
    "\n",
    "x_view = x.T.reshape(16, 1)\n",
    "print(x_view.shape)\n",
    "# torch.Size([16, 1])"
   ]
  },
  {
   "cell_type": "code",
   "execution_count": null,
   "metadata": {
    "id": "50lRHSxzCagV"
   },
   "outputs": [],
   "source": []
  }
 ],
 "metadata": {
  "colab": {
   "collapsed_sections": [],
   "name": "PyTorch-view.ipynb",
   "provenance": []
  },
  "kernelspec": {
   "display_name": "Python 3",
   "language": "python",
   "name": "python3"
  },
  "language_info": {
   "codemirror_mode": {
    "name": "ipython",
    "version": 3
   },
   "file_extension": ".py",
   "mimetype": "text/x-python",
   "name": "python",
   "nbconvert_exporter": "python",
   "pygments_lexer": "ipython3",
   "version": "3.7.6"
  }
 },
 "nbformat": 4,
 "nbformat_minor": 4
}
