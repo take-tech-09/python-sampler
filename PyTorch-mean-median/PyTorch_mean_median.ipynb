{
 "cells": [
  {
   "cell_type": "markdown",
   "metadata": {},
   "source": [
    "# 【PyTorch】平均値と中央値を算出するtorch.median、torch.mean\n",
    "https://take-tech-engineer.com/pytorch-mediantorch-mean/"
   ]
  },
  {
   "cell_type": "code",
   "execution_count": 1,
   "metadata": {
    "colab": {
     "base_uri": "https://localhost:8080/"
    },
    "id": "_jb2_vcx4oJ9",
    "outputId": "90e4dc51-aa24-4672-bf24-28c8be010bfe"
   },
   "outputs": [
    {
     "name": "stdout",
     "output_type": "stream",
     "text": [
      "torch.Size([3, 4])\n",
      "tensor([[ 0.,  1.,  2.,  3.],\n",
      "        [ 4.,  5.,  6.,  7.],\n",
      "        [ 8.,  9., 10., 11.]])\n",
      "tensor(5.5000)\n"
     ]
    }
   ],
   "source": [
    "import torch\n",
    "\n",
    "a = torch.arange(12, dtype=torch.float32).reshape(3, 4)\n",
    "print(a.shape)\n",
    "print(a)\n",
    "# torch.Size([3, 4])\n",
    "# tensor([[ 0,  1,  2,  3],\n",
    "#        [ 4,  5,  6,  7],\n",
    "#        [ 8,  9, 10, 11]])\n",
    "\n",
    "\n",
    "print(torch.mean(input=a))\n",
    "# tensor(5.5000)"
   ]
  },
  {
   "cell_type": "code",
   "execution_count": 2,
   "metadata": {
    "colab": {
     "base_uri": "https://localhost:8080/"
    },
    "id": "m0t1sG9W5UKW",
    "outputId": "3ccae316-7ec7-41f3-ce26-8fad6f12cd1b"
   },
   "outputs": [
    {
     "name": "stdout",
     "output_type": "stream",
     "text": [
      "tensor([4., 5., 6., 7.])\n",
      "tensor([1.5000, 5.5000, 9.5000])\n"
     ]
    }
   ],
   "source": [
    "print(torch.mean(input=a, dim=0))\n",
    "# tensor([4., 5., 6., 7.])\n",
    "\n",
    "print(torch.mean(input=a, dim=1))\n",
    "# tensor([1.5000, 5.5000, 9.5000])"
   ]
  },
  {
   "cell_type": "code",
   "execution_count": 3,
   "metadata": {
    "colab": {
     "base_uri": "https://localhost:8080/"
    },
    "id": "jqKFBnVX6caF",
    "outputId": "881dff97-fab4-40eb-fcdb-e70b68c54e4b"
   },
   "outputs": [
    {
     "name": "stdout",
     "output_type": "stream",
     "text": [
      "torch.Size([2, 3])\n",
      "tensor([[nan, 1., 2.],\n",
      "        [1., 2., 3.]])\n",
      "tensor(nan)\n"
     ]
    }
   ],
   "source": [
    "b = torch.tensor([[torch.nan, 1, 2], [1, 2, 3]])\n",
    "\n",
    "print(b.shape)\n",
    "print(b)\n",
    "# torch.Size([2, 3])\n",
    "# tensor([[nan, 1., 2.],\n",
    "#        [1., 2., 3.]])\n",
    "\n",
    "print(torch.mean(input=b))\n",
    "# tensor(nan)"
   ]
  },
  {
   "cell_type": "code",
   "execution_count": 4,
   "metadata": {
    "colab": {
     "base_uri": "https://localhost:8080/"
    },
    "id": "ibW66HDC7Vdk",
    "outputId": "8720d85b-5e7d-4e3f-8f77-aa5769d4e026"
   },
   "outputs": [
    {
     "name": "stdout",
     "output_type": "stream",
     "text": [
      "tensor(1.8000)\n",
      "tensor([1.0000, 1.5000, 2.5000])\n",
      "tensor([1.5000, 2.0000])\n"
     ]
    }
   ],
   "source": [
    "print(torch.nanmean(input=b))\n",
    "# tensor(1.8000)\n",
    "\n",
    "print(torch.nanmean(input=b, dim=0))\n",
    "# tensor([1.0000, 1.5000, 2.5000])\n",
    "\n",
    "print(torch.nanmean(input=b, dim=1))\n",
    "# tensor([1.5000, 2.0000])"
   ]
  },
  {
   "cell_type": "code",
   "execution_count": 5,
   "metadata": {
    "colab": {
     "base_uri": "https://localhost:8080/"
    },
    "id": "eoggGsrh8Dt2",
    "outputId": "b466a238-9719-48fa-caee-6d57938595c5"
   },
   "outputs": [
    {
     "name": "stdout",
     "output_type": "stream",
     "text": [
      "tensor(5.)\n"
     ]
    }
   ],
   "source": [
    "print(torch.median(input=a))\n",
    "# tensor(5.)"
   ]
  },
  {
   "cell_type": "code",
   "execution_count": 6,
   "metadata": {
    "colab": {
     "base_uri": "https://localhost:8080/"
    },
    "id": "Qxs2gyjf8hg3",
    "outputId": "cf52eadc-509d-4ce9-c863-147e24057919"
   },
   "outputs": [
    {
     "name": "stdout",
     "output_type": "stream",
     "text": [
      "tensor([4., 5., 6., 7.])\n",
      "tensor([1, 1, 1, 1])\n",
      "tensor([1., 5., 9.])\n",
      "tensor([1, 1, 1])\n"
     ]
    }
   ],
   "source": [
    "values, indices = torch.median(input=a, dim=0)\n",
    "print(values)\n",
    "print(indices)\n",
    "# tensor([4., 5., 6., 7.])\n",
    "# tensor([1, 1, 1, 1])\n",
    "\n",
    "values, indices = torch.median(input=a, dim=1)\n",
    "print(values)\n",
    "print(indices)\n",
    "# tensor([1., 5., 9.])\n",
    "# tensor([1, 1, 1])"
   ]
  },
  {
   "cell_type": "code",
   "execution_count": 7,
   "metadata": {
    "colab": {
     "base_uri": "https://localhost:8080/"
    },
    "id": "28AQJo4B8r76",
    "outputId": "93023778-07ae-4ec2-9e68-d9baef40c517"
   },
   "outputs": [
    {
     "name": "stdout",
     "output_type": "stream",
     "text": [
      "tensor(nan)\n"
     ]
    }
   ],
   "source": [
    "print(torch.median(input=b))\n",
    "# tensor(nan)"
   ]
  },
  {
   "cell_type": "code",
   "execution_count": 8,
   "metadata": {
    "colab": {
     "base_uri": "https://localhost:8080/"
    },
    "id": "HMXtpsTQ9u3W",
    "outputId": "9a25b5e4-cced-41d1-8229-f021405fe6bb"
   },
   "outputs": [
    {
     "name": "stdout",
     "output_type": "stream",
     "text": [
      "tensor(2.)\n",
      "tensor([1., 1., 2.])\n",
      "tensor([1, 0, 0])\n",
      "tensor([1., 2.])\n",
      "tensor([1, 1])\n"
     ]
    }
   ],
   "source": [
    "print(torch.nanmedian(input=b))\n",
    "# tensor(2.)\n",
    "\n",
    "values, indices = torch.nanmedian(input=b, dim=0)\n",
    "print(values)\n",
    "print(indices)\n",
    "# tensor([1., 1., 2.])\n",
    "# tensor([1, 0, 0])\n",
    "\n",
    "values, indices = torch.nanmedian(input=b, dim=1)\n",
    "print(values)\n",
    "print(indices)\n",
    "# tensor([1, 0, 0])\n",
    "# tensor([1, 1])"
   ]
  },
  {
   "cell_type": "code",
   "execution_count": null,
   "metadata": {
    "id": "uv7abow8-F1G"
   },
   "outputs": [],
   "source": []
  }
 ],
 "metadata": {
  "colab": {
   "name": "PyTorch-mean-median.ipynb",
   "provenance": []
  },
  "kernelspec": {
   "display_name": "Python 3",
   "language": "python",
   "name": "python3"
  },
  "language_info": {
   "codemirror_mode": {
    "name": "ipython",
    "version": 3
   },
   "file_extension": ".py",
   "mimetype": "text/x-python",
   "name": "python",
   "nbconvert_exporter": "python",
   "pygments_lexer": "ipython3",
   "version": "3.7.6"
  }
 },
 "nbformat": 4,
 "nbformat_minor": 4
}
