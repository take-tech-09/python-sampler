{
 "cells": [
  {
   "cell_type": "markdown",
   "metadata": {},
   "source": [
    "# 2つのTensor配列の要素ごとの最大値・最小値を取得するtorch.maximum、torch.minimum、torch.fmax、torch.fmin【PyTorch】\n",
    "https://take-tech-engineer.com/pytorch-max-min/"
   ]
  },
  {
   "cell_type": "code",
   "execution_count": 1,
   "metadata": {
    "colab": {
     "base_uri": "https://localhost:8080/"
    },
    "id": "EokXFzcmbppy",
    "outputId": "2d13986d-2375-4734-a2d4-81d63c1e04d1"
   },
   "outputs": [
    {
     "name": "stdout",
     "output_type": "stream",
     "text": [
      "tensor([3, 2, 4])\n",
      "tensor([3, 2, 4])\n"
     ]
    }
   ],
   "source": [
    "import torch\n",
    "\n",
    "a = torch.tensor((1, 2, -1))\n",
    "b = torch.tensor((3, 0, 4))\n",
    "\n",
    "print(torch.maximum(a, b))\n",
    "\n",
    "print(torch.fmax(a, b))"
   ]
  },
  {
   "cell_type": "code",
   "execution_count": 2,
   "metadata": {
    "colab": {
     "base_uri": "https://localhost:8080/"
    },
    "id": "9x2lrgPzefHq",
    "outputId": "41e395de-7feb-42de-fb21-c347a8329a7f"
   },
   "outputs": [
    {
     "name": "stdout",
     "output_type": "stream",
     "text": [
      "tensor([1, 2, 0])\n",
      "tensor([1, 2, 0])\n"
     ]
    }
   ],
   "source": [
    "a = torch.tensor((1, 2, -1))\n",
    "b = torch.tensor((0))\n",
    "\n",
    "print(torch.maximum(a, b))\n",
    "\n",
    "print(torch.fmax(a, b))"
   ]
  },
  {
   "cell_type": "code",
   "execution_count": 3,
   "metadata": {
    "colab": {
     "base_uri": "https://localhost:8080/"
    },
    "id": "CUgpqK9Gesws",
    "outputId": "ccede505-c61b-4b1f-fa18-de9c61396424"
   },
   "outputs": [
    {
     "name": "stdout",
     "output_type": "stream",
     "text": [
      "tensor([3., nan, 4.])\n",
      "tensor([3., 0., 4.])\n"
     ]
    }
   ],
   "source": [
    "a = torch.tensor((1, float('nan'), -1))\n",
    "b = torch.tensor((3, 0, 4))\n",
    "\n",
    "print(torch.maximum(a, b))\n",
    "\n",
    "print(torch.fmax(a, b))"
   ]
  },
  {
   "cell_type": "code",
   "execution_count": 4,
   "metadata": {
    "colab": {
     "base_uri": "https://localhost:8080/"
    },
    "id": "Kf-L325nfYeE",
    "outputId": "cb14d048-c720-41fa-900e-04290aaee9ef"
   },
   "outputs": [
    {
     "name": "stdout",
     "output_type": "stream",
     "text": [
      "tensor([ 1,  0, -1])\n",
      "tensor([ 1,  0, -1])\n"
     ]
    }
   ],
   "source": [
    "a = torch.tensor((1, 2, -1))\n",
    "b = torch.tensor((3, 0, 4))\n",
    "\n",
    "print(torch.minimum(a, b))\n",
    "\n",
    "print(torch.fmin(a, b))"
   ]
  },
  {
   "cell_type": "code",
   "execution_count": 5,
   "metadata": {
    "colab": {
     "base_uri": "https://localhost:8080/"
    },
    "id": "N0ILmiXmgMvS",
    "outputId": "d0d52301-1b11-425f-97e0-c35290fa160e"
   },
   "outputs": [
    {
     "name": "stdout",
     "output_type": "stream",
     "text": [
      "tensor([ 0,  0, -1])\n",
      "tensor([ 0,  0, -1])\n"
     ]
    }
   ],
   "source": [
    "a = torch.tensor((1, 2, -1))\n",
    "b = torch.tensor((0))\n",
    "\n",
    "print(torch.minimum(a, b))\n",
    "\n",
    "print(torch.fmin(a, b))"
   ]
  },
  {
   "cell_type": "code",
   "execution_count": 6,
   "metadata": {
    "colab": {
     "base_uri": "https://localhost:8080/"
    },
    "id": "nrCpANI4gDpG",
    "outputId": "1d956b5c-ba9f-41e3-d6bb-f8afc35e8e65"
   },
   "outputs": [
    {
     "name": "stdout",
     "output_type": "stream",
     "text": [
      "tensor([ 1., nan, -1.])\n",
      "tensor([ 1.,  0., -1.])\n"
     ]
    }
   ],
   "source": [
    "a = torch.tensor((1, float('nan'), -1))\n",
    "b = torch.tensor((3, 0, 4))\n",
    "\n",
    "print(torch.minimum(a, b))\n",
    "\n",
    "print(torch.fmin(a, b))"
   ]
  }
 ],
 "metadata": {
  "colab": {
   "collapsed_sections": [],
   "name": "PyTorch-maximum-minimum.ipynb",
   "provenance": []
  },
  "kernelspec": {
   "display_name": "Python 3",
   "language": "python",
   "name": "python3"
  },
  "language_info": {
   "codemirror_mode": {
    "name": "ipython",
    "version": 3
   },
   "file_extension": ".py",
   "mimetype": "text/x-python",
   "name": "python",
   "nbconvert_exporter": "python",
   "pygments_lexer": "ipython3",
   "version": "3.7.6"
  }
 },
 "nbformat": 4,
 "nbformat_minor": 4
}
