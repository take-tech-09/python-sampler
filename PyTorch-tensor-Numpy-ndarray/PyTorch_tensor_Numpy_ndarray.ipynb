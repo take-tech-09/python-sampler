{
 "cells": [
  {
   "cell_type": "markdown",
   "metadata": {},
   "source": [
    "# 【PyTorch】Tensorとndarrayの変換方法について【Numpy】\n",
    "https://take-tech-engineer.com/pytorch-tensor-ndarray-numpy/"
   ]
  },
  {
   "cell_type": "code",
   "execution_count": null,
   "metadata": {
    "id": "YqAJlWN8Hp7i"
   },
   "outputs": [],
   "source": [
    "import torch\n",
    "import numpy"
   ]
  },
  {
   "cell_type": "code",
   "execution_count": null,
   "metadata": {
    "colab": {
     "base_uri": "https://localhost:8080/"
    },
    "id": "4zF3mCRrJJSa",
    "outputId": "4fea429f-6164-48fe-e73d-aaddf0417b85"
   },
   "outputs": [],
   "source": [
    "a = numpy.array([1, 2, 3])\n",
    "\n",
    "t = torch.from_numpy(a)\n",
    "print(t)\n",
    "# tensor([1, 2, 3])\n",
    "\n",
    "t[0] = -1\n",
    "print(t)\n",
    "# tensor([-1,  2,  3])\n",
    "print(a)\n",
    "# [-1  2  3]"
   ]
  },
  {
   "cell_type": "code",
   "execution_count": null,
   "metadata": {
    "colab": {
     "base_uri": "https://localhost:8080/"
    },
    "id": "NTMoGjYiJaDX",
    "outputId": "393636a0-fb2c-4a63-9b00-95449a046b45"
   },
   "outputs": [],
   "source": [
    "a = numpy.array([1, 2, 3])\n",
    "\n",
    "t = torch.from_numpy(a).clone()\n",
    "print(t)\n",
    "# tensor([1, 2, 3])\n",
    "\n",
    "t[0] = -1\n",
    "print(t)\n",
    "# tensor([-1,  2,  3])\n",
    "print(a)\n",
    "# [1 2 3]"
   ]
  },
  {
   "cell_type": "code",
   "execution_count": null,
   "metadata": {
    "colab": {
     "base_uri": "https://localhost:8080/"
    },
    "id": "cn5ojsCNOGxw",
    "outputId": "c3760a33-f5df-422d-9c8b-355e9740107f"
   },
   "outputs": [],
   "source": [
    "t = torch.tensor([1, 2, 3])\n",
    "\n",
    "a = t.numpy()\n",
    "print(a)\n",
    "# [1 2 3]\n",
    "\n",
    "a[0] = -1\n",
    "print(a)\n",
    "# [-1  2  3]\n",
    "print(t)\n",
    "# tensor([-1,  2,  3])"
   ]
  },
  {
   "cell_type": "code",
   "execution_count": null,
   "metadata": {
    "colab": {
     "base_uri": "https://localhost:8080/"
    },
    "id": "VEb-FxG9Oq2q",
    "outputId": "5e16392e-d654-4bbe-c6d7-7fbc946de548"
   },
   "outputs": [],
   "source": [
    "t = torch.tensor([1, 2, 3])\n",
    "\n",
    "a = t.numpy().copy()\n",
    "print(a)\n",
    "# [1 2 3]\n",
    "\n",
    "a[0] = -1\n",
    "print(a)\n",
    "# [-1  2  3]\n",
    "print(t)\n",
    "# tensor([-1,  2,  3])"
   ]
  },
  {
   "cell_type": "code",
   "execution_count": null,
   "metadata": {
    "colab": {
     "base_uri": "https://localhost:8080/"
    },
    "id": "GcUk9IxjQOZm",
    "outputId": "6d08bd87-ff93-485f-a3c3-5b77cbe8e50e"
   },
   "outputs": [],
   "source": [
    "t = torch.tensor([1, 2, 3]).to('cuda')\n",
    "print(t)\n",
    "# tensor([1, 2, 3], device='cuda:0')\n",
    "\n",
    "a = t.cpu().numpy().copy()\n",
    "print(a)\n",
    "# [1 2 3]"
   ]
  },
  {
   "cell_type": "code",
   "execution_count": null,
   "metadata": {
    "colab": {
     "base_uri": "https://localhost:8080/"
    },
    "id": "xl4czTYDRJw5",
    "outputId": "e3562ac1-569c-4e06-f39a-30f14873fec3"
   },
   "outputs": [],
   "source": [
    "t = torch.tensor([1, 2, 3]).to('cuda')\n",
    "print(t)\n",
    "# tensor([1, 2, 3], device='cuda:0')\n",
    "\n",
    "a = t.cpu().numpy().copy()\n",
    "print(a)\n",
    "# [1 2 3]"
   ]
  },
  {
   "cell_type": "code",
   "execution_count": null,
   "metadata": {
    "colab": {
     "base_uri": "https://localhost:8080/"
    },
    "id": "iXR6Z2BLTcOO",
    "outputId": "5f844fb0-8ac3-4ce9-9d9b-e67770357e43"
   },
   "outputs": [],
   "source": [
    "t = torch.tensor([0.1, 2, 3], requires_grad=True).to('cuda')\n",
    "print(t)\n",
    "# tensor([0.1000, 2.0000, 3.0000], device='cuda:0', grad_fn=<ToCopyBackward0>)\n",
    "\n",
    "a = t.cpu().detach().numpy().copy()\n",
    "print(a)\n",
    "# [0.1 2.  3. ]"
   ]
  },
  {
   "cell_type": "code",
   "execution_count": null,
   "metadata": {
    "id": "4gwHubvbTi8d"
   },
   "outputs": [],
   "source": []
  }
 ],
 "metadata": {
  "accelerator": "GPU",
  "colab": {
   "collapsed_sections": [],
   "name": "PyTorch-tensor-Numpy-ndarray.ipynb",
   "provenance": []
  },
  "gpuClass": "standard",
  "kernelspec": {
   "display_name": "Python 3",
   "language": "python",
   "name": "python3"
  },
  "language_info": {
   "codemirror_mode": {
    "name": "ipython",
    "version": 3
   },
   "file_extension": ".py",
   "mimetype": "text/x-python",
   "name": "python",
   "nbconvert_exporter": "python",
   "pygments_lexer": "ipython3",
   "version": "3.7.6"
  }
 },
 "nbformat": 4,
 "nbformat_minor": 4
}
