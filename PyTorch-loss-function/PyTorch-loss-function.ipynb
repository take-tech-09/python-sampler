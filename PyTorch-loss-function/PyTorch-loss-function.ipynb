{
 "cells": [
  {
   "cell_type": "markdown",
   "metadata": {},
   "source": [
    "# PyTorchで自作の損失関数（loss function）を使う\n",
    "https://take-tech-engineer.com/pytorch-loss-fuction/"
   ]
  },
  {
   "cell_type": "code",
   "execution_count": null,
   "metadata": {},
   "outputs": [],
   "source": [
    "import torch\n",
    "from torch import nn"
   ]
  },
  {
   "cell_type": "code",
   "execution_count": null,
   "metadata": {},
   "outputs": [],
   "source": [
    "class CustomLoss(nn.Module):\n",
    "    def __init__(self): # パラメータの設定など初期化処理を行う\n",
    "        super(CustomLoss).__init__()\n",
    "\n",
    "    def forward(self, outputs, targets): # モデルの出力と正解データ\n",
    "\n",
    "        # ロスの計算を何かしら書く\n",
    "        # loss = torch.mean(outputs - targets)\n",
    "        # ロスの計算を返す\n",
    "        return loss"
   ]
  },
  {
   "cell_type": "code",
   "execution_count": null,
   "metadata": {},
   "outputs": [],
   "source": [
    "class MAELoss(nn.Module):\n",
    "    def __init__(self): \n",
    "        super(MAELoss).__init__()\n",
    "\n",
    "    def forward(self, outputs, targets):\n",
    "\n",
    "        loss = torch.mean(torch.abs(outputs - targets))\n",
    "        return loss"
   ]
  },
  {
   "cell_type": "code",
   "execution_count": null,
   "metadata": {},
   "outputs": [],
   "source": [
    "criterion = MAELoss()\n",
    "outputs = model(inputs)\n",
    "loss = criterion(outputs, targets)\n",
    "loss.backward()"
   ]
  }
 ],
 "metadata": {
  "kernelspec": {
   "display_name": "Python 3",
   "language": "python",
   "name": "python3"
  },
  "language_info": {
   "codemirror_mode": {
    "name": "ipython",
    "version": 3
   },
   "file_extension": ".py",
   "mimetype": "text/x-python",
   "name": "python",
   "nbconvert_exporter": "python",
   "pygments_lexer": "ipython3",
   "version": "3.7.6"
  }
 },
 "nbformat": 4,
 "nbformat_minor": 4
}
