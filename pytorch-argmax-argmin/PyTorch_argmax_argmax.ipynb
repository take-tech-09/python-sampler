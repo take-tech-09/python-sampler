{
 "cells": [
  {
   "cell_type": "markdown",
   "metadata": {},
   "source": [
    "# 【PyTorch】Tensor配列の最大値・最小値のインデックスを取得するtorch.argmax、torch.argmin【位置】\n",
    "https://take-tech-engineer.com/pytorch-argmax-argmin/"
   ]
  },
  {
   "cell_type": "code",
   "execution_count": 1,
   "metadata": {
    "colab": {
     "base_uri": "https://localhost:8080/"
    },
    "id": "yTffU_mBWszP",
    "outputId": "afdd6f05-ce35-4c87-8e57-c56f5a0420dd"
   },
   "outputs": [
    {
     "name": "stdout",
     "output_type": "stream",
     "text": [
      "tensor(1)\n",
      "tensor(2)\n",
      "tensor([0, 3, 8, 6, 1, 4, 5, 7, 2])\n"
     ]
    }
   ],
   "source": [
    "import torch\n",
    "\n",
    "a = torch.tensor([1, 3, 2])\n",
    "print(torch.argmax(a))\n",
    "# tensor(1)\n",
    "\n",
    "a = torch.tensor([[0, 3, 8],\n",
    "                 [6, 1, 4],\n",
    "                 [5, 7, 2]])\n",
    "\n",
    "print(torch.argmax(a))\n",
    "# tensor(2)\n",
    "print(torch.flatten(a))\n",
    "# tensor([0, 3, 8, 6, 1, 4, 5, 7, 2])"
   ]
  },
  {
   "cell_type": "code",
   "execution_count": 2,
   "metadata": {
    "colab": {
     "base_uri": "https://localhost:8080/"
    },
    "id": "8bfFJ0WTW8nm",
    "outputId": "dfbeb1f3-173d-455a-fc55-e1c5cea54321"
   },
   "outputs": [
    {
     "name": "stdout",
     "output_type": "stream",
     "text": [
      "tensor([1, 2, 0])\n",
      "tensor([2, 0, 1])\n"
     ]
    }
   ],
   "source": [
    "print(torch.argmax(a, dim=0))\n",
    "# tensor([1, 2, 0])\n",
    "print(torch.argmax(a, dim=1))\n",
    "# tensor([2, 0, 1])"
   ]
  },
  {
   "cell_type": "code",
   "execution_count": 3,
   "metadata": {
    "colab": {
     "base_uri": "https://localhost:8080/"
    },
    "id": "l3rC2ZiHXxi_",
    "outputId": "c61538a9-b7ec-4d45-ebae-ffff96f678a2"
   },
   "outputs": [
    {
     "name": "stdout",
     "output_type": "stream",
     "text": [
      "torch.return_types.max(\n",
      "values=tensor([6, 7, 8]),\n",
      "indices=tensor([1, 2, 0]))\n",
      "tensor([1, 2, 0])\n"
     ]
    }
   ],
   "source": [
    "print(torch.max(a,dim=0))\n",
    "# torch.return_types.max(values=tensor([6, 7, 8]),indices=tensor([1, 2, 0]))\n",
    "\n",
    "print(torch.max(a,dim=0).indices)\n",
    "# tensor([1, 2, 0])"
   ]
  },
  {
   "cell_type": "code",
   "execution_count": 4,
   "metadata": {
    "colab": {
     "base_uri": "https://localhost:8080/"
    },
    "id": "cmIOouFPaIld",
    "outputId": "16a6753a-5523-4ce6-f759-5c123f4c576e"
   },
   "outputs": [
    {
     "name": "stdout",
     "output_type": "stream",
     "text": [
      "tensor(0)\n",
      "tensor([0, 3, 8, 6, 1, 4, 5, 7, 2])\n"
     ]
    }
   ],
   "source": [
    "print(torch.argmin(a))\n",
    "# tensor(0)\n",
    "print(torch.flatten(a))\n",
    "# tensor([0, 3, 8, 6, 1, 4, 5, 7, 2])"
   ]
  },
  {
   "cell_type": "code",
   "execution_count": 5,
   "metadata": {
    "colab": {
     "base_uri": "https://localhost:8080/"
    },
    "id": "aTDM2SxJbNBA",
    "outputId": "02436f0f-af7d-401a-9fbd-17a436bb0694"
   },
   "outputs": [
    {
     "name": "stdout",
     "output_type": "stream",
     "text": [
      "tensor([0, 1, 2])\n",
      "tensor([0, 1, 2])\n"
     ]
    }
   ],
   "source": [
    "print(torch.argmin(a, dim=0))\n",
    "# tensor([0, 1, 2])\n",
    "print(torch.argmin(a, dim=1))\n",
    "# tensor([0, 1, 2])"
   ]
  },
  {
   "cell_type": "code",
   "execution_count": 6,
   "metadata": {
    "colab": {
     "base_uri": "https://localhost:8080/"
    },
    "id": "V8LiuBj0bXXu",
    "outputId": "d44ae831-aa40-4e31-8f3e-b77839ce3437"
   },
   "outputs": [
    {
     "name": "stdout",
     "output_type": "stream",
     "text": [
      "torch.return_types.min(\n",
      "values=tensor([0, 1, 2]),\n",
      "indices=tensor([0, 1, 2]))\n",
      "tensor([0, 1, 2])\n"
     ]
    }
   ],
   "source": [
    "print(torch.min(a,dim=0))\n",
    "# torch.return_types.min(values=tensor([0, 1, 2]),indices=tensor([0, 1, 2]))\n",
    "\n",
    "print(torch.min(a,dim=0).indices)\n",
    "# tensor([1, 2, 0])"
   ]
  },
  {
   "cell_type": "code",
   "execution_count": null,
   "metadata": {
    "id": "svqXJqx9brzO"
   },
   "outputs": [],
   "source": []
  }
 ],
 "metadata": {
  "colab": {
   "name": "PyTorch-argmax-argmax.ipynb",
   "provenance": []
  },
  "kernelspec": {
   "display_name": "Python 3",
   "language": "python",
   "name": "python3"
  },
  "language_info": {
   "codemirror_mode": {
    "name": "ipython",
    "version": 3
   },
   "file_extension": ".py",
   "mimetype": "text/x-python",
   "name": "python",
   "nbconvert_exporter": "python",
   "pygments_lexer": "ipython3",
   "version": "3.7.6"
  }
 },
 "nbformat": 4,
 "nbformat_minor": 4
}
