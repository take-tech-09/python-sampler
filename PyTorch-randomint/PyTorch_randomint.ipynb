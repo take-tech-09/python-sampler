{
 "cells": [
  {
   "cell_type": "markdown",
   "metadata": {},
   "source": [
    "# 【PyTorch】ランダムな整数を生成するtorch.randomint\n",
    "https://take-tech-engineer.com/pytorch-torch-randomint/"
   ]
  },
  {
   "cell_type": "code",
   "execution_count": 1,
   "metadata": {
    "colab": {
     "base_uri": "https://localhost:8080/"
    },
    "id": "5qAMI4AE1lVm",
    "outputId": "0c866215-a313-4d16-d9ae-41ebadc772eb"
   },
   "outputs": [
    {
     "name": "stdout",
     "output_type": "stream",
     "text": [
      "tensor([3, 3, 4])\n",
      "<class 'torch.Tensor'>\n",
      "torch.int64\n"
     ]
    }
   ],
   "source": [
    "import torch\n",
    "\n",
    "value = torch.randint(low=3, high=5, size=(3,))\n",
    "print(value)\n",
    "print(type(value))\n",
    "print(value.dtype)"
   ]
  },
  {
   "cell_type": "code",
   "execution_count": 2,
   "metadata": {
    "colab": {
     "base_uri": "https://localhost:8080/"
    },
    "id": "qVdn5JBJ1175",
    "outputId": "69bb96e1-98c4-47a1-fc7d-e21d46234401"
   },
   "outputs": [
    {
     "name": "stdout",
     "output_type": "stream",
     "text": [
      "tensor([[3, 3, 4],\n",
      "        [3, 3, 3],\n",
      "        [4, 3, 3]])\n"
     ]
    }
   ],
   "source": [
    "print(torch.randint(low=3, high=5, size=(3,3)))"
   ]
  },
  {
   "cell_type": "code",
   "execution_count": 3,
   "metadata": {
    "colab": {
     "base_uri": "https://localhost:8080/"
    },
    "id": "so3CepVk2R5I",
    "outputId": "75a30a05-2a31-422b-f0ec-a51dfef4bb1a"
   },
   "outputs": [
    {
     "name": "stdout",
     "output_type": "stream",
     "text": [
      "tensor([[2, 0],\n",
      "        [3, 1]])\n"
     ]
    }
   ],
   "source": [
    "print(torch.randint(10, (2, 2)))"
   ]
  },
  {
   "cell_type": "code",
   "execution_count": 4,
   "metadata": {
    "colab": {
     "base_uri": "https://localhost:8080/"
    },
    "id": "oNcCj0mU2Z9u",
    "outputId": "f0d8e2cf-ea85-46fd-dd7c-7faa991211d7"
   },
   "outputs": [
    {
     "name": "stdout",
     "output_type": "stream",
     "text": [
      "tensor([[5, 9],\n",
      "        [3, 0]])\n"
     ]
    }
   ],
   "source": [
    "print(torch.randint(10, (2, 2)))"
   ]
  }
 ],
 "metadata": {
  "colab": {
   "collapsed_sections": [],
   "name": "PyTorch-randomint.ipynb",
   "provenance": []
  },
  "kernelspec": {
   "display_name": "Python 3",
   "language": "python",
   "name": "python3"
  },
  "language_info": {
   "codemirror_mode": {
    "name": "ipython",
    "version": 3
   },
   "file_extension": ".py",
   "mimetype": "text/x-python",
   "name": "python",
   "nbconvert_exporter": "python",
   "pygments_lexer": "ipython3",
   "version": "3.7.6"
  }
 },
 "nbformat": 4,
 "nbformat_minor": 4
}
