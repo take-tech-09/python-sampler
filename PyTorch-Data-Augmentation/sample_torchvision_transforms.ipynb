{
 "cells": [
  {
   "cell_type": "markdown",
   "metadata": {},
   "source": [
    "# 【PyTorch】torchvision.transformsを使って、学習時のデータ拡張(Data Augmentation)を行う1\n",
    "https://take-tech-engineer.com/pytorch-data-augmentation-transforms"
   ]
  },
  {
   "cell_type": "markdown",
   "metadata": {},
   "source": [
    "## インポート"
   ]
  },
  {
   "cell_type": "code",
   "execution_count": null,
   "metadata": {
    "id": "lJ6RCLcXVhq1"
   },
   "outputs": [],
   "source": [
    "import matplotlib.pyplot as plt\n",
    "import numpy as np\n",
    "import torch\n",
    "import torchvision.transforms as T\n",
    "from torchvision.io import read_image"
   ]
  },
  {
   "cell_type": "markdown",
   "metadata": {},
   "source": [
    "### 画像表示のための関数"
   ]
  },
  {
   "cell_type": "code",
   "execution_count": null,
   "metadata": {
    "id": "biUVCXglVcFD"
   },
   "outputs": [],
   "source": [
    "def show(imgs):\n",
    "    img = T.ToPILImage()(imgs.to('cpu'))\n",
    "    plt.figure(figsize=(10, 10), dpi=300)\n",
    "    plt.imshow(np.asarray(img))"
   ]
  },
  {
   "cell_type": "markdown",
   "metadata": {},
   "source": [
    "## サンプル画像の表示"
   ]
  },
  {
   "cell_type": "code",
   "execution_count": null,
   "metadata": {
    "colab": {
     "background_save": true,
     "base_uri": "https://localhost:8080/",
     "height": 1000,
     "output_embedded_package_id": "1St-YwI5KBVUOmWsuoOBeW23MSIr11txD"
    },
    "executionInfo": {
     "elapsed": 39160,
     "status": "ok",
     "timestamp": 1642681195442,
     "user": {
      "displayName": "大澤正俊",
      "photoUrl": "https://lh3.googleusercontent.com/a/default-user=s64",
      "userId": "03720881528328670165"
     },
     "user_tz": -540
    },
    "id": "VFg0kWdJW5vm",
    "outputId": "f3376438-b90f-4af0-95c9-53e370651e70"
   },
   "outputs": [],
   "source": [
    "img = read_image('data-test2000.jpg')\n",
    "show(img)"
   ]
  },
  {
   "cell_type": "markdown",
   "metadata": {},
   "source": [
    "## RandomHorizontalFlip(画像反転)"
   ]
  },
  {
   "cell_type": "code",
   "execution_count": null,
   "metadata": {
    "colab": {
     "background_save": true
    },
    "id": "rtzG1_rYWM_t"
   },
   "outputs": [],
   "source": [
    "transform = T.Compose(\n",
    "    [T.RandomHorizontalFlip(p=1),\n",
    "     ]\n",
    ")"
   ]
  },
  {
   "cell_type": "code",
   "execution_count": null,
   "metadata": {
    "colab": {
     "background_save": true,
     "base_uri": "https://localhost:8080/",
     "height": 269,
     "output_embedded_package_id": "1OaFH9JS8R2Yt3I7t1BLGJg3Dr-3Zehf3"
    },
    "executionInfo": {
     "elapsed": 1195,
     "status": "ok",
     "timestamp": 1642680973857,
     "user": {
      "displayName": "大澤正俊",
      "photoUrl": "https://lh3.googleusercontent.com/a/default-user=s64",
      "userId": "03720881528328670165"
     },
     "user_tz": -540
    },
    "id": "M-qPqn2sWs8M",
    "outputId": "b7bce985-02a3-4453-9499-31807b5cf620"
   },
   "outputs": [],
   "source": [
    "img_T = transform(img)\n",
    "show(img_T)"
   ]
  },
  {
   "cell_type": "markdown",
   "metadata": {},
   "source": [
    "## RandomRotation(画像回転)"
   ]
  },
  {
   "cell_type": "code",
   "execution_count": null,
   "metadata": {},
   "outputs": [],
   "source": [
    "transform = T.Compose(\n",
    "    [T.RandomRotation(degrees=[-15, 15]),\n",
    "     ]\n",
    ")"
   ]
  },
  {
   "cell_type": "code",
   "execution_count": null,
   "metadata": {},
   "outputs": [],
   "source": [
    "img_T = transform(img)\n",
    "show(img_T)"
   ]
  },
  {
   "cell_type": "markdown",
   "metadata": {},
   "source": [
    "## RandomErasing(画像部分削除)"
   ]
  },
  {
   "cell_type": "code",
   "execution_count": null,
   "metadata": {},
   "outputs": [],
   "source": [
    "transform = T.Compose(\n",
    "    [T.RandomErasing(p=1),\n",
    "     ]\n",
    ")"
   ]
  },
  {
   "cell_type": "code",
   "execution_count": null,
   "metadata": {},
   "outputs": [],
   "source": [
    "img_T = transform(img)\n",
    "show(img_T)"
   ]
  },
  {
   "cell_type": "code",
   "execution_count": null,
   "metadata": {},
   "outputs": [],
   "source": []
  }
 ],
 "metadata": {
  "accelerator": "GPU",
  "colab": {
   "authorship_tag": "ABX9TyMefEGYEUm55ys3CX7fLssI",
   "collapsed_sections": [],
   "mount_file_id": "13DcH7Xv6zvd1aNio-ZAbiaygXd4Gak56",
   "name": "sample_torchvision_transforms.ipynb",
   "version": ""
  },
  "kernelspec": {
   "display_name": "Python 3",
   "language": "python",
   "name": "python3"
  },
  "language_info": {
   "codemirror_mode": {
    "name": "ipython",
    "version": 3
   },
   "file_extension": ".py",
   "mimetype": "text/x-python",
   "name": "python",
   "nbconvert_exporter": "python",
   "pygments_lexer": "ipython3",
   "version": "3.7.6"
  }
 },
 "nbformat": 4,
 "nbformat_minor": 4
}
