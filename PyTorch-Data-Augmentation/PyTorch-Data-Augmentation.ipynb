{
 "cells": [
  {
   "cell_type": "markdown",
   "metadata": {},
   "source": [
    "# 【PyTorch】torchvision.transformsを使って、学習時のデータ拡張(Data Augmentation)を行う2\n",
    "https://take-tech-engineer.com/pytorch-data-augmentation-transforms"
   ]
  },
  {
   "cell_type": "code",
   "execution_count": 1,
   "metadata": {
    "executionInfo": {
     "elapsed": 4,
     "status": "ok",
     "timestamp": 1642664660987,
     "user": {
      "displayName": "大澤正俊",
      "photoUrl": "https://lh3.googleusercontent.com/a/default-user=s64",
      "userId": "03720881528328670165"
     },
     "user_tz": -540
    },
    "id": "giuCBVmkJ_rO"
   },
   "outputs": [],
   "source": [
    "import torch\n",
    "from torch import nn\n",
    "from torch.utils.data import DataLoader\n",
    "from torchvision import datasets\n",
    "import torchvision.transforms as T\n",
    "from torchvision.transforms import ToTensor, Lambda, Compose\n",
    "import matplotlib.pyplot as plt"
   ]
  },
  {
   "cell_type": "code",
   "execution_count": 2,
   "metadata": {
    "colab": {
     "base_uri": "https://localhost:8080/"
    },
    "executionInfo": {
     "elapsed": 1525,
     "status": "ok",
     "timestamp": 1642664662510,
     "user": {
      "displayName": "大澤正俊",
      "photoUrl": "https://lh3.googleusercontent.com/a/default-user=s64",
      "userId": "03720881528328670165"
     },
     "user_tz": -540
    },
    "id": "UCKxekLQKAFI",
    "outputId": "4535f618-38f1-4a8d-ea9a-a5017e5a4833"
   },
   "outputs": [],
   "source": [
    "# Download training data from open datasets.\n",
    "training_data = datasets.FashionMNIST(\n",
    "    root=\"data\",\n",
    "    train=True,\n",
    "    download=True,\n",
    "    transform=ToTensor(),\n",
    ")\n",
    "\n",
    "# Download test data from open datasets.\n",
    "test_data = datasets.FashionMNIST(\n",
    "    root=\"data\",\n",
    "    train=False,\n",
    "    download=True,\n",
    "    transform=ToTensor(),\n",
    ")"
   ]
  },
  {
   "cell_type": "code",
   "execution_count": 3,
   "metadata": {
    "colab": {
     "base_uri": "https://localhost:8080/"
    },
    "executionInfo": {
     "elapsed": 6,
     "status": "ok",
     "timestamp": 1642664662511,
     "user": {
      "displayName": "大澤正俊",
      "photoUrl": "https://lh3.googleusercontent.com/a/default-user=s64",
      "userId": "03720881528328670165"
     },
     "user_tz": -540
    },
    "id": "Wb34JONoKFdA",
    "outputId": "78df6ba5-8e9b-4be4-a1a1-488c77aa1fee"
   },
   "outputs": [
    {
     "name": "stdout",
     "output_type": "stream",
     "text": [
      "Shape of X [N, C, H, W]:  torch.Size([64, 1, 28, 28])\n",
      "Shape of y:  torch.Size([64]) torch.int64\n"
     ]
    }
   ],
   "source": [
    "batch_size = 64\n",
    "\n",
    "# Create data loaders.\n",
    "train_dataloader = DataLoader(training_data, batch_size=batch_size)\n",
    "test_dataloader = DataLoader(test_data, batch_size=batch_size)\n",
    "\n",
    "for X, y in test_dataloader:\n",
    "    print(\"Shape of X [N, C, H, W]: \", X.shape)\n",
    "    print(\"Shape of y: \", y.shape, y.dtype)\n",
    "    break"
   ]
  },
  {
   "cell_type": "code",
   "execution_count": 4,
   "metadata": {
    "colab": {
     "base_uri": "https://localhost:8080/"
    },
    "executionInfo": {
     "elapsed": 428,
     "status": "ok",
     "timestamp": 1642664662934,
     "user": {
      "displayName": "大澤正俊",
      "photoUrl": "https://lh3.googleusercontent.com/a/default-user=s64",
      "userId": "03720881528328670165"
     },
     "user_tz": -540
    },
    "id": "2jnUCTN8KHa6",
    "outputId": "07dd7903-ce65-4609-b8ae-fd1a2f22f4a9"
   },
   "outputs": [
    {
     "name": "stdout",
     "output_type": "stream",
     "text": [
      "Using cpu device\n",
      "NeuralNetwork(\n",
      "  (flatten): Flatten(start_dim=1, end_dim=-1)\n",
      "  (linear_relu_stack): Sequential(\n",
      "    (0): Linear(in_features=784, out_features=512, bias=True)\n",
      "    (1): ReLU()\n",
      "    (2): Linear(in_features=512, out_features=512, bias=True)\n",
      "    (3): ReLU()\n",
      "    (4): Linear(in_features=512, out_features=10, bias=True)\n",
      "  )\n",
      ")\n"
     ]
    }
   ],
   "source": [
    "# Get cpu or gpu device for training.\n",
    "device = \"cuda\" if torch.cuda.is_available() else \"cpu\"\n",
    "print(f\"Using {device} device\")\n",
    "\n",
    "# Define model\n",
    "class NeuralNetwork(nn.Module):\n",
    "    def __init__(self):\n",
    "        super(NeuralNetwork, self).__init__()\n",
    "        self.flatten = nn.Flatten()\n",
    "        self.linear_relu_stack = nn.Sequential(\n",
    "            nn.Linear(28*28, 512),\n",
    "            nn.ReLU(),\n",
    "            nn.Linear(512, 512),\n",
    "            nn.ReLU(),\n",
    "            nn.Linear(512, 10)\n",
    "        )\n",
    "\n",
    "    def forward(self, x):\n",
    "        x = self.flatten(x)\n",
    "        logits = self.linear_relu_stack(x)\n",
    "        return logits\n",
    "\n",
    "model = NeuralNetwork().to(device)\n",
    "print(model)"
   ]
  },
  {
   "cell_type": "code",
   "execution_count": 5,
   "metadata": {
    "colab": {
     "base_uri": "https://localhost:8080/"
    },
    "executionInfo": {
     "elapsed": 7,
     "status": "ok",
     "timestamp": 1642664662935,
     "user": {
      "displayName": "大澤正俊",
      "photoUrl": "https://lh3.googleusercontent.com/a/default-user=s64",
      "userId": "03720881528328670165"
     },
     "user_tz": -540
    },
    "id": "5NWmrB_Jb-x6",
    "outputId": "e393e49d-ab79-41e3-a08b-2c1abf3caf1b"
   },
   "outputs": [],
   "source": [
    "loss_fn = nn.CrossEntropyLoss()\n",
    "optimizer = torch.optim.SGD(model.parameters(), lr=1e-3)"
   ]
  },
  {
   "cell_type": "code",
   "execution_count": 6,
   "metadata": {
    "executionInfo": {
     "elapsed": 6,
     "status": "ok",
     "timestamp": 1642664662936,
     "user": {
      "displayName": "大澤正俊",
      "photoUrl": "https://lh3.googleusercontent.com/a/default-user=s64",
      "userId": "03720881528328670165"
     },
     "user_tz": -540
    },
    "id": "20VZG759TQK2"
   },
   "outputs": [],
   "source": [
    "transform = T.Compose(\n",
    "    [T.RandomHorizontalFlip(p=0.1), \n",
    "     T.RandomRotation(degrees=[-7.5, 7.5]),\n",
    "     T.RandomErasing(p=0.1)]\n",
    ")"
   ]
  },
  {
   "cell_type": "code",
   "execution_count": 7,
   "metadata": {
    "executionInfo": {
     "elapsed": 6,
     "status": "ok",
     "timestamp": 1642664662936,
     "user": {
      "displayName": "大澤正俊",
      "photoUrl": "https://lh3.googleusercontent.com/a/default-user=s64",
      "userId": "03720881528328670165"
     },
     "user_tz": -540
    },
    "id": "WSJT7r8AKL0l"
   },
   "outputs": [],
   "source": [
    "def train(dataloader, model, loss_fn, optimizer):\n",
    "    size = len(dataloader.dataset)\n",
    "    model.train()\n",
    "    for batch, (X, y) in enumerate(dataloader):\n",
    "        X, y = X.to(device), y.to(device)\n",
    "\n",
    "        X = transform(X) # データ拡張追加\n",
    "\n",
    "        # Compute prediction error\n",
    "        pred = model(X)\n",
    "        loss = loss_fn(pred, y)\n",
    "\n",
    "        # Backpropagation\n",
    "        optimizer.zero_grad()\n",
    "        loss.backward()\n",
    "        optimizer.step()\n",
    "\n",
    "        if batch % 100 == 0:\n",
    "            loss, current = loss.item(), batch * len(X)\n",
    "            print(f\"loss: {loss:>7f}  [{current:>5d}/{size:>5d}]\")"
   ]
  },
  {
   "cell_type": "code",
   "execution_count": 8,
   "metadata": {
    "executionInfo": {
     "elapsed": 6,
     "status": "ok",
     "timestamp": 1642664662936,
     "user": {
      "displayName": "大澤正俊",
      "photoUrl": "https://lh3.googleusercontent.com/a/default-user=s64",
      "userId": "03720881528328670165"
     },
     "user_tz": -540
    },
    "id": "uMY_KM6TKMY9"
   },
   "outputs": [],
   "source": [
    "def test(dataloader, model, loss_fn):\n",
    "    size = len(dataloader.dataset)\n",
    "    num_batches = len(dataloader)\n",
    "    model.eval()\n",
    "    test_loss, correct = 0, 0\n",
    "    with torch.no_grad():\n",
    "        for X, y in dataloader:\n",
    "            X, y = X.to(device), y.to(device)\n",
    "            pred = model(X)\n",
    "            test_loss += loss_fn(pred, y).item()\n",
    "            correct += (pred.argmax(1) == y).type(torch.float).sum().item()\n",
    "    test_loss /= num_batches\n",
    "    correct /= size\n",
    "    print(f\"Test Error: \\n Accuracy: {(100*correct):>0.1f}%, Avg loss: {test_loss:>8f} \\n\")"
   ]
  },
  {
   "cell_type": "code",
   "execution_count": 9,
   "metadata": {
    "colab": {
     "base_uri": "https://localhost:8080/",
     "height": 1000
    },
    "executionInfo": {
     "elapsed": 31935,
     "status": "error",
     "timestamp": 1642664694865,
     "user": {
      "displayName": "大澤正俊",
      "photoUrl": "https://lh3.googleusercontent.com/a/default-user=s64",
      "userId": "03720881528328670165"
     },
     "user_tz": -540
    },
    "id": "Edjxsc9_KPnz",
    "outputId": "d88f6f78-9cda-40fc-8223-180c54649af3"
   },
   "outputs": [
    {
     "name": "stdout",
     "output_type": "stream",
     "text": [
      "Epoch 1\n",
      "-------------------------------\n",
      "loss: 2.307113  [    0/60000]\n",
      "loss: 2.292763  [ 6400/60000]\n",
      "loss: 2.286017  [12800/60000]\n",
      "loss: 2.276761  [19200/60000]\n",
      "loss: 2.264284  [25600/60000]\n",
      "loss: 2.241804  [32000/60000]\n",
      "loss: 2.240536  [38400/60000]\n",
      "loss: 2.246170  [44800/60000]\n",
      "loss: 2.223141  [51200/60000]\n",
      "loss: 2.193324  [57600/60000]\n",
      "Test Error: \n",
      " Accuracy: 44.0%, Avg loss: 2.182232 \n",
      "\n",
      "Epoch 2\n",
      "-------------------------------\n",
      "loss: 2.192627  [    0/60000]\n",
      "loss: 2.207695  [ 6400/60000]\n",
      "loss: 2.136223  [12800/60000]\n",
      "loss: 2.151635  [19200/60000]\n",
      "loss: 2.120543  [25600/60000]\n",
      "loss: 2.066231  [32000/60000]\n",
      "loss: 2.088675  [38400/60000]\n",
      "loss: 2.017469  [44800/60000]\n",
      "loss: 2.019100  [51200/60000]\n",
      "loss: 2.101928  [57600/60000]\n",
      "Test Error: \n",
      " Accuracy: 57.3%, Avg loss: 1.960270 \n",
      "\n",
      "Epoch 3\n",
      "-------------------------------\n",
      "loss: 1.983540  [    0/60000]\n",
      "loss: 1.960978  [ 6400/60000]\n",
      "loss: 1.874930  [12800/60000]\n",
      "loss: 1.908072  [19200/60000]\n",
      "loss: 1.828904  [25600/60000]\n",
      "loss: 1.898420  [32000/60000]\n",
      "loss: 1.799160  [38400/60000]\n",
      "loss: 1.693095  [44800/60000]\n",
      "loss: 1.699734  [51200/60000]\n",
      "loss: 1.632493  [57600/60000]\n",
      "Test Error: \n",
      " Accuracy: 62.5%, Avg loss: 1.624691 \n",
      "\n",
      "Epoch 4\n",
      "-------------------------------\n",
      "loss: 1.687739  [    0/60000]\n",
      "loss: 1.759786  [ 6400/60000]\n",
      "loss: 1.535159  [12800/60000]\n",
      "loss: 1.565699  [19200/60000]\n",
      "loss: 1.522277  [25600/60000]\n",
      "loss: 1.448107  [32000/60000]\n",
      "loss: 1.466755  [38400/60000]\n",
      "loss: 1.643456  [44800/60000]\n",
      "loss: 1.460442  [51200/60000]\n",
      "loss: 1.345248  [57600/60000]\n",
      "Test Error: \n",
      " Accuracy: 62.8%, Avg loss: 1.355220 \n",
      "\n",
      "Epoch 5\n",
      "-------------------------------\n",
      "loss: 1.427173  [    0/60000]\n",
      "loss: 1.422444  [ 6400/60000]\n",
      "loss: 1.273651  [12800/60000]\n",
      "loss: 1.540075  [19200/60000]\n",
      "loss: 1.657080  [25600/60000]\n",
      "loss: 1.268615  [32000/60000]\n",
      "loss: 1.288537  [38400/60000]\n",
      "loss: 1.235435  [44800/60000]\n",
      "loss: 1.268037  [51200/60000]\n",
      "loss: 1.151103  [57600/60000]\n",
      "Test Error: \n",
      " Accuracy: 63.5%, Avg loss: 1.181568 \n",
      "\n",
      "Done!\n"
     ]
    }
   ],
   "source": [
    "epochs = 5\n",
    "for t in range(epochs):\n",
    "    print(f\"Epoch {t+1}\\n-------------------------------\")\n",
    "    train(train_dataloader, model, loss_fn, optimizer)\n",
    "    test(test_dataloader, model, loss_fn)\n",
    "print(\"Done!\")"
   ]
  },
  {
   "cell_type": "code",
   "execution_count": 10,
   "metadata": {
    "executionInfo": {
     "elapsed": 8,
     "status": "aborted",
     "timestamp": 1642664694862,
     "user": {
      "displayName": "大澤正俊",
      "photoUrl": "https://lh3.googleusercontent.com/a/default-user=s64",
      "userId": "03720881528328670165"
     },
     "user_tz": -540
    },
    "id": "2OSv-cbPLS12"
   },
   "outputs": [
    {
     "name": "stdout",
     "output_type": "stream",
     "text": [
      "Saved PyTorch Model State to model.pth\n"
     ]
    }
   ],
   "source": [
    "torch.save(model.state_dict(), \"model.pth\")\n",
    "print(\"Saved PyTorch Model State to model.pth\")"
   ]
  },
  {
   "cell_type": "code",
   "execution_count": 11,
   "metadata": {
    "executionInfo": {
     "elapsed": 8,
     "status": "aborted",
     "timestamp": 1642664694863,
     "user": {
      "displayName": "大澤正俊",
      "photoUrl": "https://lh3.googleusercontent.com/a/default-user=s64",
      "userId": "03720881528328670165"
     },
     "user_tz": -540
    },
    "id": "F7zqg-y6LUzG"
   },
   "outputs": [
    {
     "data": {
      "text/plain": [
       "<All keys matched successfully>"
      ]
     },
     "execution_count": 11,
     "metadata": {},
     "output_type": "execute_result"
    }
   ],
   "source": [
    "model = NeuralNetwork()\n",
    "model.load_state_dict(torch.load(\"model.pth\"))"
   ]
  },
  {
   "cell_type": "code",
   "execution_count": 12,
   "metadata": {
    "executionInfo": {
     "elapsed": 9,
     "status": "aborted",
     "timestamp": 1642664694864,
     "user": {
      "displayName": "大澤正俊",
      "photoUrl": "https://lh3.googleusercontent.com/a/default-user=s64",
      "userId": "03720881528328670165"
     },
     "user_tz": -540
    },
    "id": "7tDX88H8LXqa"
   },
   "outputs": [
    {
     "name": "stdout",
     "output_type": "stream",
     "text": [
      "Predicted: \"Ankle boot\", Actual: \"Ankle boot\"\n"
     ]
    }
   ],
   "source": [
    "classes = [\n",
    "    \"T-shirt/top\",\n",
    "    \"Trouser\",\n",
    "    \"Pullover\",\n",
    "    \"Dress\",\n",
    "    \"Coat\",\n",
    "    \"Sandal\",\n",
    "    \"Shirt\",\n",
    "    \"Sneaker\",\n",
    "    \"Bag\",\n",
    "    \"Ankle boot\",\n",
    "]\n",
    "\n",
    "model.eval()\n",
    "x, y = test_data[0][0], test_data[0][1]\n",
    "with torch.no_grad():\n",
    "    pred = model(x)\n",
    "    predicted, actual = classes[pred[0].argmax(0)], classes[y]\n",
    "    print(f'Predicted: \"{predicted}\", Actual: \"{actual}\"')"
   ]
  }
 ],
 "metadata": {
  "accelerator": "GPU",
  "colab": {
   "authorship_tag": "ABX9TyN09sqoMra8myC558nzL/UA",
   "collapsed_sections": [],
   "name": "PyTorch-Data-Augmentation.ipynb",
   "provenance": []
  },
  "kernelspec": {
   "display_name": "Python 3",
   "language": "python",
   "name": "python3"
  },
  "language_info": {
   "codemirror_mode": {
    "name": "ipython",
    "version": 3
   },
   "file_extension": ".py",
   "mimetype": "text/x-python",
   "name": "python",
   "nbconvert_exporter": "python",
   "pygments_lexer": "ipython3",
   "version": "3.7.6"
  }
 },
 "nbformat": 4,
 "nbformat_minor": 4
}
