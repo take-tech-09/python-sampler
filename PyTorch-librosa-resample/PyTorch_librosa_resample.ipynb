{
 "cells": [
  {
   "cell_type": "markdown",
   "metadata": {},
   "source": [
    "# 【PyTorch/librosa】Pythonで音声/音楽データをリサンプリングする\n",
    "https://take-tech-engineer.com/pytorch-librosa-resample/"
   ]
  },
  {
   "cell_type": "code",
   "execution_count": 1,
   "metadata": {
    "id": "qfntO4RQ0cKk"
   },
   "outputs": [],
   "source": [
    "import os\n",
    "import requests\n",
    "\n",
    "_SAMPLE_DIR = \"_sample_data\"\n",
    "SAMPLE_WAV_URL = \"https://pytorch-tutorial-assets.s3.amazonaws.com/steam-train-whistle-daniel_simon.wav\"\n",
    "SAMPLE_WAV_PATH = os.path.join(_SAMPLE_DIR, \"steam.wav\")\n",
    "\n",
    "os.makedirs(_SAMPLE_DIR, exist_ok=True)\n",
    "\n",
    "with open(SAMPLE_WAV_PATH, 'wb') as f:\n",
    "    f.write(requests.get(SAMPLE_WAV_URL).content)"
   ]
  },
  {
   "cell_type": "code",
   "execution_count": 2,
   "metadata": {
    "colab": {
     "base_uri": "https://localhost:8080/"
    },
    "id": "rIn31Nht1Dsw",
    "outputId": "4ab8341b-537e-4f71-f1a4-3687132c7309"
   },
   "outputs": [
    {
     "name": "stdout",
     "output_type": "stream",
     "text": [
      "(2, 109368)\n",
      "44100\n",
      "(2, 19840)\n"
     ]
    }
   ],
   "source": [
    "import librosa\n",
    "\n",
    "y, sr = librosa.load(SAMPLE_WAV_PATH, sr=None, mono=False)\n",
    "print(y.shape)\n",
    "# (2, 109368)\n",
    "print(sr)\n",
    "# 44100\n",
    "\n",
    "re_sr = 8000\n",
    "y_8k = librosa.resample(y=y, orig_sr=sr, target_sr=re_sr)\n",
    "print(y_8k.shape)\n",
    "# (2, 19840)"
   ]
  },
  {
   "cell_type": "code",
   "execution_count": 3,
   "metadata": {
    "id": "TACwvx-z1ykR"
   },
   "outputs": [],
   "source": [
    "y_8k_kaiser_fast = librosa.resample(y=y, orig_sr=sr, target_sr=re_sr, res_type='kaiser_fast')"
   ]
  },
  {
   "cell_type": "code",
   "execution_count": 4,
   "metadata": {
    "colab": {
     "base_uri": "https://localhost:8080/"
    },
    "id": "oQk5Bppt3hmz",
    "outputId": "77797331-c1c2-4848-cd76-594554e004bd"
   },
   "outputs": [
    {
     "name": "stdout",
     "output_type": "stream",
     "text": [
      "torch.Size([2, 109368])\n",
      "44100\n"
     ]
    }
   ],
   "source": [
    "import torch\n",
    "import torchaudio\n",
    "\n",
    "waveform, sample_rate = torchaudio.load(filepath=SAMPLE_WAV_PATH)\n",
    "\n",
    "print(waveform.shape)\n",
    "# torch.Size([2, 109368])\n",
    "print(sample_rate)\n",
    "# 44100"
   ]
  },
  {
   "cell_type": "code",
   "execution_count": 5,
   "metadata": {
    "colab": {
     "base_uri": "https://localhost:8080/"
    },
    "id": "0mBtJjht5_ju",
    "outputId": "f4451746-affb-444a-99dc-5765ce12c35c"
   },
   "outputs": [
    {
     "name": "stdout",
     "output_type": "stream",
     "text": [
      "torch.Size([2, 19840])\n"
     ]
    }
   ],
   "source": [
    "import torchaudio.functional as F\n",
    "\n",
    "re_sample_rate = 8000\n",
    "\n",
    "resampled_waveform = F.resample(waveform=waveform, orig_freq=sample_rate, new_freq=re_sample_rate)\n",
    "\n",
    "print(resampled_waveform.shape)\n",
    "# torch.Size([2, 19840])"
   ]
  },
  {
   "cell_type": "code",
   "execution_count": 6,
   "metadata": {
    "id": "m6H2RtEbz-gc"
   },
   "outputs": [],
   "source": [
    "resampled_waveform_kaiser = F.resample(waveform=waveform, orig_freq=sample_rate, new_freq=re_sample_rate, resampling_method='kaiser_window')"
   ]
  },
  {
   "cell_type": "code",
   "execution_count": 7,
   "metadata": {
    "colab": {
     "base_uri": "https://localhost:8080/"
    },
    "id": "7nat0uz-1ShV",
    "outputId": "5560ef4f-94da-49e6-a2f6-48e81bd94dc0"
   },
   "outputs": [
    {
     "name": "stdout",
     "output_type": "stream",
     "text": [
      "torch.Size([2, 19840])\n"
     ]
    }
   ],
   "source": [
    "import torchaudio.transforms as T\n",
    "\n",
    "resampler = T.Resample(orig_freq=sample_rate, new_freq=re_sample_rate, resampling_method='kaiser_window')\n",
    "resampled_waveform = resampler(waveform)\n",
    "print(resampled_waveform.shape)\n",
    "# torch.Size([2, 19840])"
   ]
  },
  {
   "cell_type": "code",
   "execution_count": 8,
   "metadata": {
    "colab": {
     "base_uri": "https://localhost:8080/"
    },
    "id": "1_tZwRNL2mDu",
    "outputId": "02dd9deb-8ffb-4b03-85c3-50eea7e3673c"
   },
   "outputs": [
    {
     "name": "stdout",
     "output_type": "stream",
     "text": [
      "212 ms ± 25.1 ms per loop (mean ± std. dev. of 7 runs, 1 loop each)\n"
     ]
    }
   ],
   "source": [
    "%%timeit\n",
    "\n",
    "for _ in range(10):\n",
    "    resampled_waveform_kaiser = F.resample(waveform=waveform, orig_freq=sample_rate, new_freq=re_sample_rate, resampling_method='kaiser_window')\n",
    "# 10 loops, best of 5: 198 ms per loop"
   ]
  },
  {
   "cell_type": "code",
   "execution_count": 9,
   "metadata": {
    "colab": {
     "base_uri": "https://localhost:8080/"
    },
    "id": "7qTkAEuA4JJf",
    "outputId": "3b5ae97e-514c-4028-aad6-5ccbff2d0d17"
   },
   "outputs": [
    {
     "name": "stdout",
     "output_type": "stream",
     "text": [
      "11.9 ms ± 369 µs per loop (mean ± std. dev. of 7 runs, 100 loops each)\n"
     ]
    }
   ],
   "source": [
    "%%timeit\n",
    "\n",
    "for _ in range(10):\n",
    "    resampled_waveform = resampler(waveform)\n",
    "# 100 loops, best of 5: 11.7 ms per loop"
   ]
  },
  {
   "cell_type": "code",
   "execution_count": null,
   "metadata": {
    "id": "E7p56w7c4JUa"
   },
   "outputs": [],
   "source": []
  },
  {
   "cell_type": "code",
   "execution_count": null,
   "metadata": {
    "id": "ASrXfOX-4B2x"
   },
   "outputs": [],
   "source": []
  }
 ],
 "metadata": {
  "colab": {
   "collapsed_sections": [],
   "name": "PyTorch-librosa-resample.ipynb",
   "provenance": []
  },
  "kernelspec": {
   "display_name": "Python 3",
   "language": "python",
   "name": "python3"
  },
  "language_info": {
   "codemirror_mode": {
    "name": "ipython",
    "version": 3
   },
   "file_extension": ".py",
   "mimetype": "text/x-python",
   "name": "python",
   "nbconvert_exporter": "python",
   "pygments_lexer": "ipython3",
   "version": "3.7.6"
  }
 },
 "nbformat": 4,
 "nbformat_minor": 4
}
