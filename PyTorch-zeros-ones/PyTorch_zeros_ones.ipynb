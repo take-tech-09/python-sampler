{
 "cells": [
  {
   "cell_type": "markdown",
   "metadata": {},
   "source": [
    "# 【PyTorch】すべての要素が0/1の配列生成するtorch.zeros、torch.zeros_like、torch.ones、torch.ones_like\n",
    "https://take-tech-engineer.com/pytorch-zeros-ones/"
   ]
  },
  {
   "cell_type": "code",
   "execution_count": 1,
   "metadata": {
    "colab": {
     "base_uri": "https://localhost:8080/"
    },
    "id": "72ZA_1xDI-4z",
    "outputId": "1e16fc4e-ea89-483a-c2d8-cc2bd3f1a985"
   },
   "outputs": [
    {
     "name": "stdout",
     "output_type": "stream",
     "text": [
      "tensor([0., 0., 0., 0., 0.])\n",
      "torch.Size([5])\n",
      "torch.float32\n",
      "tensor([[0., 0., 0.],\n",
      "        [0., 0., 0.]])\n",
      "torch.Size([2, 3])\n",
      "torch.Size([3, 3, 2])\n"
     ]
    }
   ],
   "source": [
    "import torch\n",
    "\n",
    "a = torch.zeros(5)\n",
    "print(a)\n",
    "# tensor([0., 0., 0., 0., 0.])\n",
    "print(a.shape)\n",
    "# torch.Size([5])\n",
    "print(a.dtype)\n",
    "# torch.float32\n",
    "\n",
    "b = torch.zeros(2, 3)\n",
    "print(b)\n",
    "# tensor([[0., 0., 0.],\n",
    "#        [0., 0., 0.]])\n",
    "print(b.shape)\n",
    "# torch.Size([2, 3])\n",
    "\n",
    "c = torch.zeros(3, 3, 2)\n",
    "print(c.shape)\n",
    "# torch.Size([3, 3, 2])"
   ]
  },
  {
   "cell_type": "code",
   "execution_count": 2,
   "metadata": {
    "colab": {
     "base_uri": "https://localhost:8080/"
    },
    "id": "7zO4_fEvJ3bU",
    "outputId": "fa024cda-d999-4f8d-ca6e-32a05a6ab19f"
   },
   "outputs": [
    {
     "name": "stdout",
     "output_type": "stream",
     "text": [
      "torch.int8\n"
     ]
    }
   ],
   "source": [
    "d = torch.zeros(2, dtype=torch.int8)\n",
    "print(d.dtype)\n",
    "# torch.int8"
   ]
  },
  {
   "cell_type": "code",
   "execution_count": 3,
   "metadata": {
    "colab": {
     "base_uri": "https://localhost:8080/"
    },
    "id": "EcEANIUiMlNY",
    "outputId": "c6ec5a0c-da41-4086-f8b3-fcd98c5804f8"
   },
   "outputs": [
    {
     "name": "stdout",
     "output_type": "stream",
     "text": [
      "tensor([1., 1., 1., 1., 1.])\n",
      "torch.Size([5])\n",
      "torch.float32\n",
      "tensor([[1., 1., 1.],\n",
      "        [1., 1., 1.]])\n",
      "torch.Size([2, 3])\n",
      "torch.Size([3, 3, 2])\n"
     ]
    }
   ],
   "source": [
    "a = torch.ones(5)\n",
    "print(a)\n",
    "# tensor([1., 1., 1., 1., 1.])\n",
    "print(a.shape)\n",
    "# torch.Size([5])\n",
    "print(a.dtype)\n",
    "# torch.float32\n",
    "\n",
    "b = torch.ones(2, 3)\n",
    "print(b)\n",
    "# tensor([[1., 1., 1.],\n",
    "#         [1., 1., 1.]])\n",
    "print(b.shape)\n",
    "# torch.Size([2, 3])\n",
    "\n",
    "c = torch.ones(3, 3, 2)\n",
    "print(c.shape)\n",
    "# torch.Size([3, 3, 2])"
   ]
  },
  {
   "cell_type": "code",
   "execution_count": 4,
   "metadata": {
    "colab": {
     "base_uri": "https://localhost:8080/"
    },
    "id": "sqkF0Z21NcUK",
    "outputId": "e99ca1a4-e91f-405e-b193-2d3d7766a78f"
   },
   "outputs": [
    {
     "name": "stdout",
     "output_type": "stream",
     "text": [
      "tensor([[0.7046, 0.5073, 0.0559],\n",
      "        [0.5722, 0.4954, 0.5208]])\n",
      "torch.Size([2, 3])\n",
      "tensor([[0., 0., 0.],\n",
      "        [0., 0., 0.]])\n",
      "torch.Size([2, 3])\n",
      "torch.float32\n"
     ]
    }
   ],
   "source": [
    "a = torch.rand(2, 3)\n",
    "print(a)\n",
    "# tensor([[0.3804, 0.1059, 0.7642],\n",
    "#        [0.9733, 0.8222, 0.0327]])\n",
    "print(a.shape)\n",
    "# torch.Size([2, 3])\n",
    "\n",
    "b = torch.zeros_like(a)\n",
    "print(b)\n",
    "# tensor([[0., 0., 0.],\n",
    "#        [0., 0., 0.]])\n",
    "print(b.shape)\n",
    "# torch.Size([2, 3])\n",
    "print(b.dtype)\n",
    "# torch.float32"
   ]
  },
  {
   "cell_type": "code",
   "execution_count": 5,
   "metadata": {
    "colab": {
     "base_uri": "https://localhost:8080/"
    },
    "id": "2WtB9ewNOrXJ",
    "outputId": "418f64ed-10e8-4e62-bb51-c310436f4827"
   },
   "outputs": [
    {
     "name": "stdout",
     "output_type": "stream",
     "text": [
      "tensor([[0.3612, 0.1392, 0.9862],\n",
      "        [0.2054, 0.9148, 0.1337]])\n",
      "torch.Size([2, 3])\n",
      "tensor([[1., 1., 1.],\n",
      "        [1., 1., 1.]])\n",
      "torch.Size([2, 3])\n",
      "torch.float32\n"
     ]
    }
   ],
   "source": [
    "a = torch.rand(2, 3)\n",
    "print(a)\n",
    "# tensor([[0.3185, 0.7047, 0.8822],\n",
    "#        [0.9370, 0.9441, 0.0713]])\n",
    "print(a.shape)\n",
    "# torch.Size([2, 3])\n",
    "\n",
    "b = torch.ones_like(a)\n",
    "print(b)\n",
    "# tensor([[1., 1., 1.],\n",
    "#        [1., 1., .]])\n",
    "print(b.shape)\n",
    "# torch.Size([2, 3])\n",
    "print(b.dtype)\n",
    "# torch.float32"
   ]
  },
  {
   "cell_type": "code",
   "execution_count": null,
   "metadata": {
    "id": "dQlpxJDDPb_2"
   },
   "outputs": [],
   "source": []
  }
 ],
 "metadata": {
  "colab": {
   "collapsed_sections": [],
   "name": "PyTorch-zeros-ones.ipynb",
   "provenance": []
  },
  "kernelspec": {
   "display_name": "Python 3",
   "language": "python",
   "name": "python3"
  },
  "language_info": {
   "codemirror_mode": {
    "name": "ipython",
    "version": 3
   },
   "file_extension": ".py",
   "mimetype": "text/x-python",
   "name": "python",
   "nbconvert_exporter": "python",
   "pygments_lexer": "ipython3",
   "version": "3.7.6"
  }
 },
 "nbformat": 4,
 "nbformat_minor": 4
}
