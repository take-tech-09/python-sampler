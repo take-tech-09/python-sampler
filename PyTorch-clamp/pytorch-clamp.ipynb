{
 "cells": [
  {
   "cell_type": "markdown",
   "metadata": {},
   "source": [
    "# PyTorch配列Tesonrを任意の最小値・最大値に収めるclamp\n",
    "https://take-tech-engineer.com/python-pytorch-clamp/"
   ]
  },
  {
   "cell_type": "code",
   "execution_count": 1,
   "metadata": {},
   "outputs": [],
   "source": [
    "import torch"
   ]
  },
  {
   "cell_type": "code",
   "execution_count": 10,
   "metadata": {},
   "outputs": [
    {
     "name": "stdout",
     "output_type": "stream",
     "text": [
      "tensor([-1.0000, -0.4000,  0.0000,  0.3000,  0.9000])\n"
     ]
    }
   ],
   "source": [
    "a = torch.tensor([-1.0, -0.4, 0.0, 0.3, 0.9])\n",
    "print(a)"
   ]
  },
  {
   "cell_type": "code",
   "execution_count": 13,
   "metadata": {},
   "outputs": [
    {
     "name": "stdout",
     "output_type": "stream",
     "text": [
      "tensor([-0.5000, -0.4000,  0.0000,  0.3000,  0.5000])\n"
     ]
    }
   ],
   "source": [
    "print(torch.clamp(input=a, min=-0.5, max=0.5))"
   ]
  },
  {
   "cell_type": "code",
   "execution_count": 15,
   "metadata": {},
   "outputs": [
    {
     "name": "stdout",
     "output_type": "stream",
     "text": [
      "tensor([-0.5000, -0.4000,  0.0000,  0.3000,  0.9000])\n",
      "tensor([-1.0000, -0.4000,  0.0000,  0.3000,  0.5000])\n"
     ]
    }
   ],
   "source": [
    "print(torch.clamp(input=a, min=-0.5))\n",
    "\n",
    "print(torch.clamp(input=a, max=0.5))"
   ]
  },
  {
   "cell_type": "code",
   "execution_count": 18,
   "metadata": {},
   "outputs": [
    {
     "name": "stdout",
     "output_type": "stream",
     "text": [
      "tensor([-1.0000, -0.4000,  0.1000,  0.5000,  1.0000])\n",
      "tensor([-1.2000, -0.5000,  0.0000,  0.3000,  0.9000])\n"
     ]
    }
   ],
   "source": [
    "limit = torch.tensor([-1.2, -0.5, 0.1 , 0.5, 1.0])\n",
    "\n",
    "print(torch.clamp(input=a, min=limit))\n",
    "\n",
    "print(torch.clamp(input=a, max=limit))"
   ]
  }
 ],
 "metadata": {
  "kernelspec": {
   "display_name": "Python 3",
   "language": "python",
   "name": "python3"
  },
  "language_info": {
   "codemirror_mode": {
    "name": "ipython",
    "version": 3
   },
   "file_extension": ".py",
   "mimetype": "text/x-python",
   "name": "python",
   "nbconvert_exporter": "python",
   "pygments_lexer": "ipython3",
   "version": "3.7.6"
  }
 },
 "nbformat": 4,
 "nbformat_minor": 4
}
