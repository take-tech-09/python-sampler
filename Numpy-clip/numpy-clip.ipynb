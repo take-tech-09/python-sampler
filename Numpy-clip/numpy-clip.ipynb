{
 "cells": [
  {
   "cell_type": "markdown",
   "metadata": {},
   "source": [
    "# Numpyの配列を任意の値の範囲に制限するclip\n",
    "https://take-tech-engineer.com/?p=218"
   ]
  },
  {
   "cell_type": "code",
   "execution_count": 1,
   "metadata": {},
   "outputs": [],
   "source": [
    "import numpy as np"
   ]
  },
  {
   "cell_type": "code",
   "execution_count": 3,
   "metadata": {},
   "outputs": [
    {
     "name": "stdout",
     "output_type": "stream",
     "text": [
      "[-1.  -0.4  0.   0.3  0.9]\n",
      "[-0.5 -0.4  0.   0.3  0.5]\n"
     ]
    }
   ],
   "source": [
    "a = np.array([-1.0, -0.4, 0.0, 0.3, 0.9])\n",
    "print(a)\n",
    "\n",
    "print(np.clip(a=a,　a_min=-0.5,　a_max=0.5))"
   ]
  },
  {
   "cell_type": "code",
   "execution_count": 7,
   "metadata": {},
   "outputs": [
    {
     "name": "stdout",
     "output_type": "stream",
     "text": [
      "[-0.5 -0.4  0.   0.3  0.9]\n",
      "[-0.5 -0.4  0.   0.3  0.5]\n"
     ]
    }
   ],
   "source": [
    "print(np.clip(a=a, a_min=-0.5, a_max=None))\n",
    "\n",
    "print(np.clip(a=a, a_min=None, a_max=0.5))"
   ]
  },
  {
   "cell_type": "code",
   "execution_count": 8,
   "metadata": {},
   "outputs": [
    {
     "name": "stdout",
     "output_type": "stream",
     "text": [
      "[-1.  -0.4  0.1  0.5  1. ]\n",
      "[-1.2 -0.5  0.   0.3  0.9]\n"
     ]
    }
   ],
   "source": [
    "limit = np.array([-1.2, -0.5, 0.1 , 0.5, 1.0])\n",
    "\n",
    "print(np.clip(a=a, a_min=limit, a_max=None))\n",
    "\n",
    "print(np.clip(a=a, a_min=None, a_max=limit))"
   ]
  }
 ],
 "metadata": {
  "kernelspec": {
   "display_name": "Python 3",
   "language": "python",
   "name": "python3"
  },
  "language_info": {
   "codemirror_mode": {
    "name": "ipython",
    "version": 3
   },
   "file_extension": ".py",
   "mimetype": "text/x-python",
   "name": "python",
   "nbconvert_exporter": "python",
   "pygments_lexer": "ipython3",
   "version": "3.7.6"
  }
 },
 "nbformat": 4,
 "nbformat_minor": 4
}
