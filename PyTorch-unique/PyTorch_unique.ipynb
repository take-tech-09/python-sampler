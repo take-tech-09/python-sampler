{
 "cells": [
  {
   "cell_type": "markdown",
   "metadata": {},
   "source": [
    "# 【PyTorch】Tensor配列のユニークな要素の値、位置、数を取得するtorch.unique\n",
    "https://take-tech-engineer.com/pytorch-unique/"
   ]
  },
  {
   "cell_type": "code",
   "execution_count": 1,
   "metadata": {
    "colab": {
     "base_uri": "https://localhost:8080/"
    },
    "id": "qwc_h0oOhGsz",
    "outputId": "b6ffa88b-4d0a-4184-d49d-88880a0f2f15"
   },
   "outputs": [
    {
     "name": "stdout",
     "output_type": "stream",
     "text": [
      "tensor([1, 3, 2, 3])\n",
      "tensor([1, 2, 3])\n",
      "tensor([2, 3, 1])\n"
     ]
    }
   ],
   "source": [
    "import torch\n",
    "\n",
    "a = torch.tensor([1, 3, 2, 3])\n",
    "print(a)\n",
    "# tensor([1, 3, 2, 3])\n",
    "\n",
    "print(torch.unique(a))\n",
    "# tensor([1, 2, 3])\n",
    "\n",
    "print(torch.unique(a, sorted=False))\n",
    "# tensor([2, 3, 1])"
   ]
  },
  {
   "cell_type": "code",
   "execution_count": 2,
   "metadata": {
    "colab": {
     "base_uri": "https://localhost:8080/"
    },
    "id": "FBhXczobhkj7",
    "outputId": "ffed0453-f6cd-4337-9c95-92595b555bd9"
   },
   "outputs": [
    {
     "name": "stdout",
     "output_type": "stream",
     "text": [
      "tensor([1, 2, 3])\n",
      "tensor([0, 2, 1, 2])\n"
     ]
    }
   ],
   "source": [
    "output, inverse_indices = torch.unique(a, return_inverse=True)\n",
    "\n",
    "print(output)\n",
    "# tensor([1, 2, 3])\n",
    "print(inverse_indices)\n",
    "# tensor([0, 2, 1, 2])"
   ]
  },
  {
   "cell_type": "code",
   "execution_count": 3,
   "metadata": {
    "colab": {
     "base_uri": "https://localhost:8080/"
    },
    "id": "dEN4fRlolKjp",
    "outputId": "0a7d862d-67e8-47c5-a77b-b2e17afd1bba"
   },
   "outputs": [
    {
     "name": "stdout",
     "output_type": "stream",
     "text": [
      "tensor([1, 2, 3])\n",
      "tensor([[0, 2, 1, 2],\n",
      "        [0, 2, 1, 2]])\n"
     ]
    }
   ],
   "source": [
    "b = torch.tensor([[1, 3, 2, 3],\n",
    "                  [1, 3, 2, 3],])\n",
    "\n",
    "output_b, inverse_indices_b = torch.unique(b, return_inverse=True)\n",
    "\n",
    "print(output_b)\n",
    "# tensor([1, 2, 3])\n",
    "print(inverse_indices_b)\n",
    "# tensor([[0, 2, 1, 2],\n",
    "#        [0, 2, 1, 2]])"
   ]
  },
  {
   "cell_type": "code",
   "execution_count": 4,
   "metadata": {
    "colab": {
     "base_uri": "https://localhost:8080/"
    },
    "id": "AuDeCteTjd-c",
    "outputId": "9e24560e-bee9-4ac0-ad7e-2f49c57c9bff"
   },
   "outputs": [
    {
     "name": "stdout",
     "output_type": "stream",
     "text": [
      "tensor([1, 2, 3])\n",
      "tensor([1, 1, 2])\n"
     ]
    }
   ],
   "source": [
    "output, counts  = torch.unique(a, return_counts=True)\n",
    "\n",
    "print(output)\n",
    "# tensor([1, 2, 3])\n",
    "print(counts)\n",
    "# tensor([1, 1, 2])"
   ]
  },
  {
   "cell_type": "code",
   "execution_count": null,
   "metadata": {
    "id": "dffgnZOlktKL"
   },
   "outputs": [],
   "source": []
  }
 ],
 "metadata": {
  "colab": {
   "collapsed_sections": [],
   "name": "PyTorch-unique.ipynb",
   "provenance": []
  },
  "kernelspec": {
   "display_name": "Python 3",
   "language": "python",
   "name": "python3"
  },
  "language_info": {
   "codemirror_mode": {
    "name": "ipython",
    "version": 3
   },
   "file_extension": ".py",
   "mimetype": "text/x-python",
   "name": "python",
   "nbconvert_exporter": "python",
   "pygments_lexer": "ipython3",
   "version": "3.7.6"
  }
 },
 "nbformat": 4,
 "nbformat_minor": 4
}
