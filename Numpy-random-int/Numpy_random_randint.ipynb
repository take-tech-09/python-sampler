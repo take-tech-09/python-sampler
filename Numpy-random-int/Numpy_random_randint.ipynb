{
 "cells": [
  {
   "cell_type": "markdown",
   "metadata": {},
   "source": [
    "# Numpyでランダムな整数を生成するnumpy.random.randint\n",
    "https://take-tech-engineer.com/numpy-random-randint/"
   ]
  },
  {
   "cell_type": "code",
   "execution_count": 1,
   "metadata": {
    "id": "53chvPM_kJch"
   },
   "outputs": [
    {
     "name": "stdout",
     "output_type": "stream",
     "text": [
      "[3 3 4]\n",
      "<class 'numpy.ndarray'>\n",
      "int64\n"
     ]
    }
   ],
   "source": [
    "import numpy as np\n",
    "\n",
    "value = np.random.randint(low=3, high=5, size=(3,))\n",
    "print(value)\n",
    "print(type(value))\n",
    "print(value.dtype)"
   ]
  },
  {
   "cell_type": "code",
   "execution_count": 2,
   "metadata": {
    "colab": {
     "base_uri": "https://localhost:8080/"
    },
    "id": "FVTgDv5DAals",
    "outputId": "e8961779-3e1d-4ecf-e56a-8e58870df5f1"
   },
   "outputs": [
    {
     "name": "stdout",
     "output_type": "stream",
     "text": [
      "[[4 3]\n",
      " [4 3]\n",
      " [4 4]]\n"
     ]
    }
   ],
   "source": [
    "print(np.random.randint(low=3, high=5, size=(3,2)))"
   ]
  },
  {
   "cell_type": "code",
   "execution_count": 3,
   "metadata": {
    "colab": {
     "base_uri": "https://localhost:8080/"
    },
    "id": "hCRAJgSiAlDz",
    "outputId": "9fbe1549-c8c9-4961-f40d-b4e2bcd1d7d5"
   },
   "outputs": [
    {
     "name": "stdout",
     "output_type": "stream",
     "text": [
      "[0 2 1]\n"
     ]
    }
   ],
   "source": [
    "value = np.random.randint(low=3, size=(3,))\n",
    "print(value)"
   ]
  },
  {
   "cell_type": "code",
   "execution_count": 4,
   "metadata": {
    "colab": {
     "base_uri": "https://localhost:8080/"
    },
    "id": "ttiFbLXXBQ-r",
    "outputId": "d44e398b-a224-43ba-9fb2-b7757dbde7ba"
   },
   "outputs": [
    {
     "name": "stdout",
     "output_type": "stream",
     "text": [
      "[7 8 8]\n",
      "[1 4 4]\n"
     ]
    }
   ],
   "source": [
    "print(np.random.randint(low=[1, 5, 7], high=10))\n",
    "\n",
    "print(np.random.randint(low=1, high=[3, 5, 10]))"
   ]
  }
 ],
 "metadata": {
  "colab": {
   "name": "Numpy-random-randint.ipynb",
   "provenance": []
  },
  "kernelspec": {
   "display_name": "Python 3",
   "language": "python",
   "name": "python3"
  },
  "language_info": {
   "codemirror_mode": {
    "name": "ipython",
    "version": 3
   },
   "file_extension": ".py",
   "mimetype": "text/x-python",
   "name": "python",
   "nbconvert_exporter": "python",
   "pygments_lexer": "ipython3",
   "version": "3.7.6"
  }
 },
 "nbformat": 4,
 "nbformat_minor": 4
}
