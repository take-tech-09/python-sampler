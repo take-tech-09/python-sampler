{
 "cells": [
  {
   "cell_type": "markdown",
   "metadata": {},
   "source": [
    "# PyTorchでTensor配列の符号を取得するtorch.sign\n",
    "https://take-tech-engineer.com/pytorch-sign/"
   ]
  },
  {
   "cell_type": "code",
   "execution_count": 1,
   "metadata": {
    "colab": {
     "base_uri": "https://localhost:8080/"
    },
    "id": "bwoaRIVgTrV2",
    "outputId": "66195f95-5af7-42fe-b826-0e925ceaf6fb"
   },
   "outputs": [
    {
     "name": "stdout",
     "output_type": "stream",
     "text": [
      "tensor([ 1., -1.,  0.,  1.])\n",
      "torch.float32\n"
     ]
    }
   ],
   "source": [
    "import torch\n",
    "\n",
    "a = torch.tensor([0.7, -1.2, 0., 2.3])\n",
    "print(torch.sign(a))\n",
    "# tensor([ 1., -1.,  0.,  1.])\n",
    "print(a.dtype)\n",
    "# torch.float32"
   ]
  },
  {
   "cell_type": "code",
   "execution_count": 2,
   "metadata": {
    "colab": {
     "base_uri": "https://localhost:8080/"
    },
    "id": "oQbhWnk7UE_q",
    "outputId": "1eb0321c-e3a0-4f0b-c992-75211e6abf5a"
   },
   "outputs": [
    {
     "name": "stdout",
     "output_type": "stream",
     "text": [
      "tensor([ 0, -1,  0,  1])\n",
      "torch.int64\n"
     ]
    }
   ],
   "source": [
    "a = torch.tensor([0, -1, 0, 2])\n",
    "print(torch.sign(a))\n",
    "# tensor([ 0, -1,  0,  1])\n",
    "print(a.dtype)\n",
    "# torch.int64"
   ]
  },
  {
   "cell_type": "code",
   "execution_count": 3,
   "metadata": {
    "colab": {
     "base_uri": "https://localhost:8080/"
    },
    "id": "oTegmvggU4Hf",
    "outputId": "2d17c258-e1d5-4346-cef5-15988d8a47cf"
   },
   "outputs": [
    {
     "name": "stdout",
     "output_type": "stream",
     "text": [
      "tensor([ 0.,  0.,  1., -1.,  0.])\n"
     ]
    }
   ],
   "source": [
    "a = torch.tensor([0, -0, torch.inf, -torch.inf, torch.nan])\n",
    "print(torch.sign(a))\n",
    "# tensor([ 0.,  0.,  1., -1.,  0.])"
   ]
  }
 ],
 "metadata": {
  "colab": {
   "collapsed_sections": [],
   "name": "PyTorch-sign.ipynb",
   "provenance": []
  },
  "kernelspec": {
   "display_name": "Python 3",
   "language": "python",
   "name": "python3"
  },
  "language_info": {
   "codemirror_mode": {
    "name": "ipython",
    "version": 3
   },
   "file_extension": ".py",
   "mimetype": "text/x-python",
   "name": "python",
   "nbconvert_exporter": "python",
   "pygments_lexer": "ipython3",
   "version": "3.7.6"
  }
 },
 "nbformat": 4,
 "nbformat_minor": 4
}
