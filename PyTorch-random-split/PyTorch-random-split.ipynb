{
 "cells": [
  {
   "cell_type": "markdown",
   "metadata": {},
   "source": [
    "# PyTorchでデータを分割するtorch.utils.data.random_split【学習、検証】\n",
    "https://take-tech-engineer.com/torch-utils-data-random-split/"
   ]
  },
  {
   "cell_type": "code",
   "execution_count": 31,
   "metadata": {},
   "outputs": [],
   "source": [
    "import torch"
   ]
  },
  {
   "cell_type": "code",
   "execution_count": 15,
   "metadata": {},
   "outputs": [],
   "source": [
    "data = torch.tensor([0, 1, 2, 3, 4, 5, 6, 7, 8, 9])"
   ]
  },
  {
   "cell_type": "code",
   "execution_count": 29,
   "metadata": {},
   "outputs": [
    {
     "name": "stdout",
     "output_type": "stream",
     "text": [
      "[tensor(2), tensor(6), tensor(1), tensor(8), tensor(4), tensor(5)]\n",
      "[tensor(0), tensor(9)]\n"
     ]
    }
   ],
   "source": [
    "train, val = torch.utils.data.random_split(dataset=data, lengths=[7, 3], generator=torch.Generator().manual_seed(42))\n",
    "\n",
    "print(list(train))\n",
    "print(list(val))"
   ]
  },
  {
   "cell_type": "code",
   "execution_count": 30,
   "metadata": {},
   "outputs": [
    {
     "name": "stdout",
     "output_type": "stream",
     "text": [
      "[tensor(2), tensor(6), tensor(1), tensor(8), tensor(4), tensor(5)]\n",
      "[tensor(0), tensor(9), tensor(3)]\n",
      "[tensor(7)]\n"
     ]
    }
   ],
   "source": [
    "train, val, test = torch.utils.data.random_split(dataset=data, lengths=[6, 3, 1], generator=torch.Generator().manual_seed(42))\n",
    "\n",
    "print(list(train))\n",
    "print(list(val))\n",
    "print(list(test))"
   ]
  }
 ],
 "metadata": {
  "kernelspec": {
   "display_name": "Python 3",
   "language": "python",
   "name": "python3"
  },
  "language_info": {
   "codemirror_mode": {
    "name": "ipython",
    "version": 3
   },
   "file_extension": ".py",
   "mimetype": "text/x-python",
   "name": "python",
   "nbconvert_exporter": "python",
   "pygments_lexer": "ipython3",
   "version": "3.7.6"
  }
 },
 "nbformat": 4,
 "nbformat_minor": 4
}
