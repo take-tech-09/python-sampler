{
  "nbformat": 4,
  "nbformat_minor": 0,
  "metadata": {
    "colab": {
      "name": "PyTorch-reshape.ipynb",
      "provenance": []
    },
    "kernelspec": {
      "name": "python3",
      "display_name": "Python 3"
    },
    "language_info": {
      "name": "python"
    }
  },
  "cells": [
    {
      "cell_type": "code",
      "execution_count": 4,
      "metadata": {
        "id": "lXtJ_xB3nuax",
        "colab": {
          "base_uri": "https://localhost:8080/",
          "height": 326
        },
        "outputId": "2b6063eb-69b3-44b5-a855-bdc3003f9c85"
      },
      "outputs": [
        {
          "output_type": "stream",
          "name": "stdout",
          "text": [
            "tensor([0., 1., 2., 3.])\n",
            "torch.Size([4])\n",
            "tensor([[0., 1.],\n",
            "        [2., 3.]])\n",
            "torch.Size([2, 2])\n",
            "tensor([[0., 1., 2., 3.]])\n",
            "torch.Size([1, 4])\n"
          ]
        },
        {
          "output_type": "error",
          "ename": "RuntimeError",
          "evalue": "ignored",
          "traceback": [
            "\u001b[0;31m---------------------------------------------------------------------------\u001b[0m",
            "\u001b[0;31mRuntimeError\u001b[0m                              Traceback (most recent call last)",
            "\u001b[0;32m<ipython-input-4-8552b5820bf5>\u001b[0m in \u001b[0;36m<module>\u001b[0;34m\u001b[0m\n\u001b[1;32m     22\u001b[0m \u001b[0;31m# torch.Size([1, 4])\u001b[0m\u001b[0;34m\u001b[0m\u001b[0;34m\u001b[0m\u001b[0;34m\u001b[0m\u001b[0m\n\u001b[1;32m     23\u001b[0m \u001b[0;34m\u001b[0m\u001b[0m\n\u001b[0;32m---> 24\u001b[0;31m \u001b[0ma_reshape\u001b[0m \u001b[0;34m=\u001b[0m \u001b[0mtorch\u001b[0m\u001b[0;34m.\u001b[0m\u001b[0mreshape\u001b[0m\u001b[0;34m(\u001b[0m\u001b[0ma\u001b[0m\u001b[0;34m,\u001b[0m \u001b[0;34m(\u001b[0m\u001b[0;36m1\u001b[0m\u001b[0;34m,\u001b[0m \u001b[0;36m5\u001b[0m\u001b[0;34m)\u001b[0m\u001b[0;34m)\u001b[0m\u001b[0;34m\u001b[0m\u001b[0;34m\u001b[0m\u001b[0m\n\u001b[0m",
            "\u001b[0;31mRuntimeError\u001b[0m: shape '[1, 5]' is invalid for input of size 4"
          ]
        }
      ],
      "source": [
        "import torch\n",
        "\n",
        "a = torch.arange(4.)\n",
        "print(a)\n",
        "# tensor([0., 1., 2., 3.])\n",
        "print(a.shape)\n",
        "# torch.Size([4])\n",
        "\n",
        "\n",
        "a_reshape = torch.reshape(a, (2, 2))\n",
        "print(a_reshape)\n",
        "# tensor([[0., 1.],\n",
        "#        [2., 3.]])\n",
        "print(a_reshape.shape)\n",
        "# torch.Size([2, 2])\n",
        "\n",
        "\n",
        "a_reshape = torch.reshape(a, (1, 4))\n",
        "print(a_reshape)\n",
        "# tensor([[0., 1., 2., 3.]])\n",
        "print(a_reshape.shape)\n",
        "# torch.Size([1, 4])\n",
        "\n",
        "a_reshape = torch.reshape(a, (1, 5))\n",
        "# RuntimeError: shape '[1, 5]' is invalid for input of size 4"
      ]
    },
    {
      "cell_type": "code",
      "source": [
        "a_reshape = torch.reshape(a, (-1, 2))\n",
        "print(a_reshape)\n",
        "# tensor([[0., 1.],\n",
        "#        [2., 3.]])\n",
        "print(a_reshape.shape)\n",
        "# torch.Size([2, 2])\n",
        "\n",
        "a_reshape = torch.reshape(a, (1, -1))\n",
        "print(a_reshape)\n",
        "# tensor([[0., 1., 2., 3.]])\n",
        "print(a_reshape.shape)\n",
        "# torch.Size([1, 4])"
      ],
      "metadata": {
        "colab": {
          "base_uri": "https://localhost:8080/"
        },
        "id": "KaQv-6Nu5JC5",
        "outputId": "7d57a4ad-b79e-486a-fe87-27765d83ddd1"
      },
      "execution_count": 10,
      "outputs": [
        {
          "output_type": "stream",
          "name": "stdout",
          "text": [
            "tensor([[0., 1.],\n",
            "        [2., 3.]])\n",
            "torch.Size([2, 2])\n",
            "tensor([[0., 1., 2., 3.]])\n",
            "torch.Size([1, 4])\n"
          ]
        }
      ]
    },
    {
      "cell_type": "code",
      "source": [
        ""
      ],
      "metadata": {
        "id": "QeD61Mha7x7K"
      },
      "execution_count": null,
      "outputs": []
    }
  ]
}