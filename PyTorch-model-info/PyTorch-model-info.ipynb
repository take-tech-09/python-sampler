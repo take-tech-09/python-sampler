{
 "cells": [
  {
   "cell_type": "markdown",
   "metadata": {},
   "source": [
    "# 【PyTorch】モデル構造を可視化するtorchinfo\n",
    "https://take-tech-engineer.com/pytorch-model-display/"
   ]
  },
  {
   "cell_type": "code",
   "execution_count": 2,
   "metadata": {},
   "outputs": [],
   "source": [
    "import torch\n",
    "import torchvision.models as models\n",
    "from torchinfo import summary"
   ]
  },
  {
   "cell_type": "code",
   "execution_count": 3,
   "metadata": {},
   "outputs": [],
   "source": [
    "model_resnet18 = models.resnet18()"
   ]
  },
  {
   "cell_type": "code",
   "execution_count": 22,
   "metadata": {},
   "outputs": [
    {
     "data": {
      "text/plain": [
       "==========================================================================================\n",
       "Layer (type:depth-idx)                   Output Shape              Param #\n",
       "==========================================================================================\n",
       "ResNet                                   --                        --\n",
       "├─Conv2d: 1-1                            [16, 64, 8, 8]            9,408\n",
       "├─BatchNorm2d: 1-2                       [16, 64, 8, 8]            128\n",
       "├─ReLU: 1-3                              [16, 64, 8, 8]            --\n",
       "├─MaxPool2d: 1-4                         [16, 64, 4, 4]            --\n",
       "├─Sequential: 1-5                        [16, 64, 4, 4]            --\n",
       "│    └─BasicBlock: 2-1                   [16, 64, 4, 4]            --\n",
       "│    │    └─Conv2d: 3-1                  [16, 64, 4, 4]            36,864\n",
       "│    │    └─BatchNorm2d: 3-2             [16, 64, 4, 4]            128\n",
       "│    │    └─ReLU: 3-3                    [16, 64, 4, 4]            --\n",
       "│    │    └─Conv2d: 3-4                  [16, 64, 4, 4]            36,864\n",
       "│    │    └─BatchNorm2d: 3-5             [16, 64, 4, 4]            128\n",
       "│    │    └─ReLU: 3-6                    [16, 64, 4, 4]            --\n",
       "│    └─BasicBlock: 2-2                   [16, 64, 4, 4]            --\n",
       "│    │    └─Conv2d: 3-7                  [16, 64, 4, 4]            36,864\n",
       "│    │    └─BatchNorm2d: 3-8             [16, 64, 4, 4]            128\n",
       "│    │    └─ReLU: 3-9                    [16, 64, 4, 4]            --\n",
       "│    │    └─Conv2d: 3-10                 [16, 64, 4, 4]            36,864\n",
       "│    │    └─BatchNorm2d: 3-11            [16, 64, 4, 4]            128\n",
       "│    │    └─ReLU: 3-12                   [16, 64, 4, 4]            --\n",
       "├─Sequential: 1-6                        [16, 128, 2, 2]           --\n",
       "│    └─BasicBlock: 2-3                   [16, 128, 2, 2]           --\n",
       "│    │    └─Conv2d: 3-13                 [16, 128, 2, 2]           73,728\n",
       "│    │    └─BatchNorm2d: 3-14            [16, 128, 2, 2]           256\n",
       "│    │    └─ReLU: 3-15                   [16, 128, 2, 2]           --\n",
       "│    │    └─Conv2d: 3-16                 [16, 128, 2, 2]           147,456\n",
       "│    │    └─BatchNorm2d: 3-17            [16, 128, 2, 2]           256\n",
       "│    │    └─Sequential: 3-18             [16, 128, 2, 2]           8,448\n",
       "│    │    └─ReLU: 3-19                   [16, 128, 2, 2]           --\n",
       "│    └─BasicBlock: 2-4                   [16, 128, 2, 2]           --\n",
       "│    │    └─Conv2d: 3-20                 [16, 128, 2, 2]           147,456\n",
       "│    │    └─BatchNorm2d: 3-21            [16, 128, 2, 2]           256\n",
       "│    │    └─ReLU: 3-22                   [16, 128, 2, 2]           --\n",
       "│    │    └─Conv2d: 3-23                 [16, 128, 2, 2]           147,456\n",
       "│    │    └─BatchNorm2d: 3-24            [16, 128, 2, 2]           256\n",
       "│    │    └─ReLU: 3-25                   [16, 128, 2, 2]           --\n",
       "├─Sequential: 1-7                        [16, 256, 1, 1]           --\n",
       "│    └─BasicBlock: 2-5                   [16, 256, 1, 1]           --\n",
       "│    │    └─Conv2d: 3-26                 [16, 256, 1, 1]           294,912\n",
       "│    │    └─BatchNorm2d: 3-27            [16, 256, 1, 1]           512\n",
       "│    │    └─ReLU: 3-28                   [16, 256, 1, 1]           --\n",
       "│    │    └─Conv2d: 3-29                 [16, 256, 1, 1]           589,824\n",
       "│    │    └─BatchNorm2d: 3-30            [16, 256, 1, 1]           512\n",
       "│    │    └─Sequential: 3-31             [16, 256, 1, 1]           33,280\n",
       "│    │    └─ReLU: 3-32                   [16, 256, 1, 1]           --\n",
       "│    └─BasicBlock: 2-6                   [16, 256, 1, 1]           --\n",
       "│    │    └─Conv2d: 3-33                 [16, 256, 1, 1]           589,824\n",
       "│    │    └─BatchNorm2d: 3-34            [16, 256, 1, 1]           512\n",
       "│    │    └─ReLU: 3-35                   [16, 256, 1, 1]           --\n",
       "│    │    └─Conv2d: 3-36                 [16, 256, 1, 1]           589,824\n",
       "│    │    └─BatchNorm2d: 3-37            [16, 256, 1, 1]           512\n",
       "│    │    └─ReLU: 3-38                   [16, 256, 1, 1]           --\n",
       "├─Sequential: 1-8                        [16, 512, 1, 1]           --\n",
       "│    └─BasicBlock: 2-7                   [16, 512, 1, 1]           --\n",
       "│    │    └─Conv2d: 3-39                 [16, 512, 1, 1]           1,179,648\n",
       "│    │    └─BatchNorm2d: 3-40            [16, 512, 1, 1]           1,024\n",
       "│    │    └─ReLU: 3-41                   [16, 512, 1, 1]           --\n",
       "│    │    └─Conv2d: 3-42                 [16, 512, 1, 1]           2,359,296\n",
       "│    │    └─BatchNorm2d: 3-43            [16, 512, 1, 1]           1,024\n",
       "│    │    └─Sequential: 3-44             [16, 512, 1, 1]           132,096\n",
       "│    │    └─ReLU: 3-45                   [16, 512, 1, 1]           --\n",
       "│    └─BasicBlock: 2-8                   [16, 512, 1, 1]           --\n",
       "│    │    └─Conv2d: 3-46                 [16, 512, 1, 1]           2,359,296\n",
       "│    │    └─BatchNorm2d: 3-47            [16, 512, 1, 1]           1,024\n",
       "│    │    └─ReLU: 3-48                   [16, 512, 1, 1]           --\n",
       "│    │    └─Conv2d: 3-49                 [16, 512, 1, 1]           2,359,296\n",
       "│    │    └─BatchNorm2d: 3-50            [16, 512, 1, 1]           1,024\n",
       "│    │    └─ReLU: 3-51                   [16, 512, 1, 1]           --\n",
       "├─AdaptiveAvgPool2d: 1-9                 [16, 512, 1, 1]           --\n",
       "├─Linear: 1-10                           [16, 1000]                513,000\n",
       "==========================================================================================\n",
       "Total params: 11,689,512\n",
       "Trainable params: 11,689,512\n",
       "Non-trainable params: 0\n",
       "Total mult-adds (M): 257.07\n",
       "==========================================================================================\n",
       "Input size (MB): 0.05\n",
       "Forward/backward pass size (MB): 3.86\n",
       "Params size (MB): 46.76\n",
       "Estimated Total Size (MB): 50.67\n",
       "=========================================================================================="
      ]
     },
     "execution_count": 22,
     "metadata": {},
     "output_type": "execute_result"
    }
   ],
   "source": [
    "batch_size = 16\n",
    "summary(model=model_resnet18, input_size=(batch_size, 3, 16, 16))"
   ]
  }
 ],
 "metadata": {
  "kernelspec": {
   "display_name": "Python 3",
   "language": "python",
   "name": "python3"
  },
  "language_info": {
   "codemirror_mode": {
    "name": "ipython",
    "version": 3
   },
   "file_extension": ".py",
   "mimetype": "text/x-python",
   "name": "python",
   "nbconvert_exporter": "python",
   "pygments_lexer": "ipython3",
   "version": "3.7.6"
  }
 },
 "nbformat": 4,
 "nbformat_minor": 4
}
